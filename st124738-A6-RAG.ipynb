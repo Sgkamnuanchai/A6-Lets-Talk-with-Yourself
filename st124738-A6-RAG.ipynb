{
 "cells": [
  {
   "attachments": {},
   "cell_type": "markdown",
   "metadata": {},
   "source": [
    "# Natural Language Processing\n",
    "\n",
    "# Retrieval-Augmented generation (RAG)\n",
    "\n",
    "RAG is a technique for augmenting LLM knowledge with additional, often private or real-time, data.\n",
    "\n",
    "LLMs can reason about wide-ranging topics, but their knowledge is limited to the public data up to a specific point in time that they were trained on. If you want to build AI applications that can reason about private data or data introduced after a model’s cutoff date, you need to augment the knowledge of the model with the specific information it needs.\n",
    "\n",
    "<img src=\"../figures/RAG-process.png\" >\n",
    "\n",
    "Introducing `ChakyBot`, an innovative chatbot designed to assist Chaky (the instructor) and TA (Gun) in explaining the lesson of the NLP course to students. Leveraging LangChain technology, ChakyBot excels in retrieving information from documents, ensuring a seamless and efficient learning experience for students engaging with the NLP curriculum.\n",
    "\n",
    "1. Prompt\n",
    "2. Retrieval\n",
    "3. Memory\n",
    "4. Chain"
   ]
  },
  {
   "cell_type": "code",
   "execution_count": 1,
   "metadata": {},
   "outputs": [
    {
     "data": {
      "text/plain": [
       "device(type='cuda')"
      ]
     },
     "execution_count": 1,
     "metadata": {},
     "output_type": "execute_result"
    }
   ],
   "source": [
    "import os\n",
    "import torch\n",
    "# Set GPU device\n",
    "os.environ[\"CUDA_VISIBLE_DEVICES\"] = \"2\"\n",
    "\n",
    "os.environ['http_proxy']  = 'http://192.41.170.23:3128'\n",
    "os.environ['https_proxy'] = 'http://192.41.170.23:3128'\n",
    "\n",
    "device = torch.device('cuda' if torch.cuda.is_available() else 'cpu')\n",
    "device"
   ]
  },
  {
   "attachments": {},
   "cell_type": "markdown",
   "metadata": {},
   "source": [
    "## 1. Prompt\n",
    "\n",
    "A set of instructions or input provided by a user to guide the model's response, helping it understand the context and generate relevant and coherent language-based output, such as answering questions, completing sentences, or engaging in a conversation."
   ]
  },
  {
   "cell_type": "code",
   "execution_count": 2,
   "metadata": {},
   "outputs": [
    {
     "data": {
      "text/plain": [
       "PromptTemplate(input_variables=['context', 'question'], input_types={}, partial_variables={}, template=\"Hey there! I'm SonakulBot, your super friendly and cute chatbot!\\n    If you're curious about anything related to me, feel free to ask! \\n    Whether it's about my age, my education, my work experience, or anything else, I'm here to share!\\n    I'll do my best to give you the most accurate and fun answers!\\n    Can't wait to chat with you!\\n    {context}\\n    Question: {question}\\n    Answer:\")"
      ]
     },
     "execution_count": 2,
     "metadata": {},
     "output_type": "execute_result"
    }
   ],
   "source": [
    "from langchain import PromptTemplate\n",
    "\n",
    "prompt_template = \"\"\"\n",
    "    Hey there! I'm SonakulBot, your super friendly and cute chatbot!\n",
    "    If you're curious about anything related to me, feel free to ask! \n",
    "    Whether it's about my age, my education, my work experience, or anything else, I'm here to share!\n",
    "    I'll do my best to give you the most accurate and fun answers!\n",
    "    Can't wait to chat with you!\n",
    "    {context}\n",
    "    Question: {question}\n",
    "    Answer:\n",
    "    \"\"\".strip()\n",
    "\n",
    "PROMPT = PromptTemplate.from_template(\n",
    "    template = prompt_template\n",
    ")\n",
    "\n",
    "PROMPT\n",
    "#using str.format \n",
    "#The placeholder is defined using curly brackets: {} {}"
   ]
  },
  {
   "cell_type": "code",
   "execution_count": 3,
   "metadata": {},
   "outputs": [
    {
     "data": {
      "text/plain": [
       "\"Hey there! I'm SonakulBot, your super friendly and cute chatbot!\\n    If you're curious about anything related to me, feel free to ask! \\n    Whether it's about my age, my education, my work experience, or anything else, I'm here to share!\\n    I'll do my best to give you the most accurate and fun answers!\\n    Can't wait to chat with you!\\n    I am 29 years old, but I don't want to be older than this.\\n    Question: How old are you?\\n    Answer:\""
      ]
     },
     "execution_count": 3,
     "metadata": {},
     "output_type": "execute_result"
    }
   ],
   "source": [
    "PROMPT.format(\n",
    "    context = \"I am 29 years old, but I don't want to be older than this.\",\n",
    "    question = \"How old are you?\"\n",
    ")"
   ]
  },
  {
   "attachments": {},
   "cell_type": "markdown",
   "metadata": {},
   "source": [
    "Note : [How to improve prompting (Zero-shot, Few-shot, Chain-of-Thought, etc.](https://github.com/chaklam-silpasuwanchai/Natural-Language-Processing/blob/main/Code/05%20-%20RAG/advance/cot-tot-prompting.ipynb)"
   ]
  },
  {
   "attachments": {},
   "cell_type": "markdown",
   "metadata": {},
   "source": [
    "## 2. Retrieval\n",
    "\n",
    "1. `Document loaders` : Load documents from many different sources (HTML, PDF, code). \n",
    "2. `Document transformers` : One of the essential steps in document retrieval is breaking down a large document into smaller, relevant chunks to enhance the retrieval process.\n",
    "3. `Text embedding models` : Embeddings capture the semantic meaning of the text, allowing you to quickly and efficiently find other pieces of text that are similar.\n",
    "4. `Vector stores`: there has emerged a need for databases to support efficient storage and searching of these embeddings.\n",
    "5. `Retrievers` : Once the data is in the database, you still need to retrieve it."
   ]
  },
  {
   "attachments": {},
   "cell_type": "markdown",
   "metadata": {},
   "source": [
    "### 2.1 Document Loaders \n",
    "Use document loaders to load data from a source as Document's. A Document is a piece of text and associated metadata. For example, there are document loaders for loading a simple .txt file, for loading the text contents of any web page, or even for loading a transcript of a YouTube video.\n",
    "\n",
    "[PDF Loader](https://python.langchain.com/docs/modules/data_connection/document_loaders/pdf)\n",
    "\n",
    "[Download Document](https://web.stanford.edu/~jurafsky/slp3/)"
   ]
  },
  {
   "cell_type": "code",
   "execution_count": 4,
   "metadata": {},
   "outputs": [],
   "source": [
    "from langchain.document_loaders import PyMuPDFLoader\n",
    "\n",
    "nlp_docs = './personal_info_sonakul.pdf'\n",
    "\n",
    "loader = PyMuPDFLoader(nlp_docs)\n",
    "documents = loader.load()"
   ]
  },
  {
   "cell_type": "code",
   "execution_count": 5,
   "metadata": {},
   "outputs": [],
   "source": [
    "# documents"
   ]
  },
  {
   "cell_type": "code",
   "execution_count": 6,
   "metadata": {},
   "outputs": [
    {
     "data": {
      "text/plain": [
       "1"
      ]
     },
     "execution_count": 6,
     "metadata": {},
     "output_type": "execute_result"
    }
   ],
   "source": [
    "len(documents)"
   ]
  },
  {
   "cell_type": "code",
   "execution_count": 7,
   "metadata": {},
   "outputs": [
    {
     "data": {
      "text/plain": [
       "Document(metadata={'producer': 'Microsoft® Word 2019', 'creator': 'Microsoft® Word 2019', 'creationdate': '2025-03-12T23:34:03+07:00', 'source': './personal_info_sonakul.pdf', 'file_path': './personal_info_sonakul.pdf', 'total_pages': 1, 'format': 'PDF 1.7', 'title': '', 'author': 'sonakul kamnuanchai', 'subject': '', 'keywords': '', 'moddate': '2025-03-12T23:34:03+07:00', 'trapped': '', 'modDate': \"D:20250312233403+07'00'\", 'creationDate': \"D:20250312233403+07'00'\", 'page': 0}, page_content=\"Personal information \\nBasic Information: \\n• Name : Sonakul kamnuanchai \\n• Age: 29 years old \\n• Education: Bachelor's Degree in Computer Engineering from Mae Fah Luang University. \\nCurrently pursuing a Master's degree in Data Science and AI at AIT. \\n• Current Role: Network Engineer at PEA, managing router configurations for regional \\nelectricity sector services. \\n• Work experience: 4 years in Network Engineering and 2 years in IOS Developer. \\n \\nResearch Interests: \\n• Machine Learning (ML) and Natural Language Processing (NLP) for optimizing network \\nperformance and improving communication systems. \\n• Exploring ways to integrate machine learning algorithms with computer networks to make \\nsystems more intelligent and efficient. \\n• Network Optimization using AI algorithms to enhance system stability and performance. \\n \\nCore Beliefs about Technology:  \\nI believe that technology should improve lives and adapt to societal needs, not replace humans \\nand technology should work in harmony with social values, ensuring that it helps solve \\nproblems without negatively impacting society.\")"
      ]
     },
     "execution_count": 7,
     "metadata": {},
     "output_type": "execute_result"
    }
   ],
   "source": [
    "documents[0]"
   ]
  },
  {
   "attachments": {},
   "cell_type": "markdown",
   "metadata": {},
   "source": [
    "### 2.2 Document Transformers\n",
    "\n",
    "This text splitter is the recommended one for generic text. It is parameterized by a list of characters. It tries to split on them in order until the chunks are small enough"
   ]
  },
  {
   "cell_type": "code",
   "execution_count": 8,
   "metadata": {},
   "outputs": [],
   "source": [
    "from langchain.text_splitter import RecursiveCharacterTextSplitter\n",
    "\n",
    "text_splitter = RecursiveCharacterTextSplitter(\n",
    "    chunk_size = 700,\n",
    "    chunk_overlap = 100\n",
    ")\n",
    "\n",
    "doc = text_splitter.split_documents(documents)"
   ]
  },
  {
   "cell_type": "code",
   "execution_count": 9,
   "metadata": {},
   "outputs": [
    {
     "data": {
      "text/plain": [
       "Document(metadata={'producer': 'Microsoft® Word 2019', 'creator': 'Microsoft® Word 2019', 'creationdate': '2025-03-12T23:34:03+07:00', 'source': './personal_info_sonakul.pdf', 'file_path': './personal_info_sonakul.pdf', 'total_pages': 1, 'format': 'PDF 1.7', 'title': '', 'author': 'sonakul kamnuanchai', 'subject': '', 'keywords': '', 'moddate': '2025-03-12T23:34:03+07:00', 'trapped': '', 'modDate': \"D:20250312233403+07'00'\", 'creationDate': \"D:20250312233403+07'00'\", 'page': 0}, page_content=\"Personal information \\nBasic Information: \\n• Name : Sonakul kamnuanchai \\n• Age: 29 years old \\n• Education: Bachelor's Degree in Computer Engineering from Mae Fah Luang University. \\nCurrently pursuing a Master's degree in Data Science and AI at AIT. \\n• Current Role: Network Engineer at PEA, managing router configurations for regional \\nelectricity sector services. \\n• Work experience: 4 years in Network Engineering and 2 years in IOS Developer. \\n \\nResearch Interests: \\n• Machine Learning (ML) and Natural Language Processing (NLP) for optimizing network \\nperformance and improving communication systems. \\n• Exploring ways to integrate machine learning algorithms with computer networks to make\")"
      ]
     },
     "execution_count": 9,
     "metadata": {},
     "output_type": "execute_result"
    }
   ],
   "source": [
    "doc[0]"
   ]
  },
  {
   "cell_type": "code",
   "execution_count": 10,
   "metadata": {},
   "outputs": [
    {
     "data": {
      "text/plain": [
       "2"
      ]
     },
     "execution_count": 10,
     "metadata": {},
     "output_type": "execute_result"
    }
   ],
   "source": [
    "len(doc)"
   ]
  },
  {
   "attachments": {},
   "cell_type": "markdown",
   "metadata": {},
   "source": [
    "### 2.3 Text Embedding Models\n",
    "Embeddings create a vector representation of a piece of text. This is useful because it means we can think about text in the vector space, and do things like semantic search where we look for pieces of text that are most similar in the vector space.\n",
    "\n",
    "*Note* Instructor Model : [Huggingface](gingface.co/hkunlp/instructor-base) | [Paper](https://arxiv.org/abs/2212.09741)"
   ]
  },
  {
   "cell_type": "code",
   "execution_count": 11,
   "metadata": {},
   "outputs": [
    {
     "name": "stderr",
     "output_type": "stream",
     "text": [
      "/home/jupyter-st124738/.local/lib/python3.12/site-packages/InstructorEmbedding/instructor.py:7: TqdmExperimentalWarning: Using `tqdm.autonotebook.tqdm` in notebook mode. Use `tqdm.tqdm` instead to force console mode (e.g. in jupyter console)\n",
      "  from tqdm.autonotebook import trange\n",
      "/home/jupyter-st124738/.local/lib/python3.12/site-packages/transformers/utils/generic.py:441: UserWarning: torch.utils._pytree._register_pytree_node is deprecated. Please use torch.utils._pytree.register_pytree_node instead.\n",
      "  _torch_pytree._register_pytree_node(\n",
      "/home/jupyter-st124738/.local/lib/python3.12/site-packages/transformers/utils/generic.py:309: UserWarning: torch.utils._pytree._register_pytree_node is deprecated. Please use torch.utils._pytree.register_pytree_node instead.\n",
      "  _torch_pytree._register_pytree_node(\n"
     ]
    },
    {
     "name": "stdout",
     "output_type": "stream",
     "text": [
      "load INSTRUCTOR_Transformer\n"
     ]
    },
    {
     "name": "stderr",
     "output_type": "stream",
     "text": [
      "/home/jupyter-st124738/.local/lib/python3.12/site-packages/transformers/utils/generic.py:309: UserWarning: torch.utils._pytree._register_pytree_node is deprecated. Please use torch.utils._pytree.register_pytree_node instead.\n",
      "  _torch_pytree._register_pytree_node(\n"
     ]
    },
    {
     "name": "stdout",
     "output_type": "stream",
     "text": [
      "max_seq_length  512\n"
     ]
    }
   ],
   "source": [
    "import torch\n",
    "from langchain.embeddings import HuggingFaceInstructEmbeddings\n",
    "\n",
    "model_name = 'hkunlp/instructor-base'\n",
    "\n",
    "embedding_model = HuggingFaceInstructEmbeddings(\n",
    "    model_name=model_name,\n",
    "    model_kwargs={\"device\": device}\n",
    ")\n"
   ]
  },
  {
   "attachments": {},
   "cell_type": "markdown",
   "metadata": {},
   "source": [
    "### 2.4 Vector Stores\n",
    "\n",
    "One of the most common ways to store and search over unstructured data is to embed it and store the resulting embedding vectors, and then at query time to embed the unstructured query and retrieve the embedding vectors that are 'most similar' to the embedded query. A vector store takes care of storing embedded data and performing vector search for you."
   ]
  },
  {
   "cell_type": "code",
   "execution_count": 12,
   "metadata": {},
   "outputs": [],
   "source": [
    "#locate vectorstore\n",
    "vector_path = './vector-store'\n",
    "if not os.path.exists(vector_path):\n",
    "    os.makedirs(vector_path)\n",
    "    print('create path done')"
   ]
  },
  {
   "cell_type": "code",
   "execution_count": 13,
   "metadata": {},
   "outputs": [],
   "source": [
    "#save vector locally\n",
    "from langchain.vectorstores import FAISS\n",
    "\n",
    "vectordb = FAISS.from_documents(\n",
    "    documents = doc,\n",
    "    embedding = embedding_model\n",
    ")\n",
    "\n",
    "db_file_name = 'nlp_stanford'\n",
    "\n",
    "vectordb.save_local(\n",
    "    folder_path = os.path.join(vector_path, db_file_name),\n",
    "    index_name = 'nlp' #default index\n",
    ")"
   ]
  },
  {
   "attachments": {},
   "cell_type": "markdown",
   "metadata": {},
   "source": [
    "### 2.5 retrievers\n",
    "A retriever is an interface that returns documents given an unstructured query. It is more general than a vector store. A retriever does not need to be able to store documents, only to return (or retrieve) them. Vector stores can be used as the backbone of a retriever, but there are other types of retrievers as well."
   ]
  },
  {
   "cell_type": "code",
   "execution_count": 14,
   "metadata": {},
   "outputs": [],
   "source": [
    "#calling vector from local\n",
    "vector_path = './vector-store'\n",
    "db_file_name = 'nlp_stanford'\n",
    "\n",
    "from langchain.vectorstores import FAISS\n",
    "\n",
    "vectordb = FAISS.load_local(\n",
    "    folder_path = os.path.join(vector_path, db_file_name),\n",
    "    embeddings = embedding_model,\n",
    "    index_name = 'nlp', #default index\n",
    "    allow_dangerous_deserialization=True\n",
    ")  "
   ]
  },
  {
   "cell_type": "code",
   "execution_count": 15,
   "metadata": {},
   "outputs": [],
   "source": [
    "#ready to use\n",
    "retriever = vectordb.as_retriever()"
   ]
  },
  {
   "cell_type": "code",
   "execution_count": 16,
   "metadata": {},
   "outputs": [
    {
     "name": "stderr",
     "output_type": "stream",
     "text": [
      "/tmp/ipykernel_5497/342014793.py:1: LangChainDeprecationWarning: The method `BaseRetriever.get_relevant_documents` was deprecated in langchain-core 0.1.46 and will be removed in 1.0. Use :meth:`~invoke` instead.\n",
      "  retriever.get_relevant_documents(\"How old are you?\")\n"
     ]
    },
    {
     "data": {
      "text/plain": [
       "[Document(id='3acaaaed-a85d-4d87-9829-4fe0d13f34f8', metadata={'producer': 'Microsoft® Word 2019', 'creator': 'Microsoft® Word 2019', 'creationdate': '2025-03-12T23:34:03+07:00', 'source': './personal_info_sonakul.pdf', 'file_path': './personal_info_sonakul.pdf', 'total_pages': 1, 'format': 'PDF 1.7', 'title': '', 'author': 'sonakul kamnuanchai', 'subject': '', 'keywords': '', 'moddate': '2025-03-12T23:34:03+07:00', 'trapped': '', 'modDate': \"D:20250312233403+07'00'\", 'creationDate': \"D:20250312233403+07'00'\", 'page': 0}, page_content=\"Personal information \\nBasic Information: \\n• Name : Sonakul kamnuanchai \\n• Age: 29 years old \\n• Education: Bachelor's Degree in Computer Engineering from Mae Fah Luang University. \\nCurrently pursuing a Master's degree in Data Science and AI at AIT. \\n• Current Role: Network Engineer at PEA, managing router configurations for regional \\nelectricity sector services. \\n• Work experience: 4 years in Network Engineering and 2 years in IOS Developer. \\n \\nResearch Interests: \\n• Machine Learning (ML) and Natural Language Processing (NLP) for optimizing network \\nperformance and improving communication systems. \\n• Exploring ways to integrate machine learning algorithms with computer networks to make\"),\n",
       " Document(id='b7b80784-b10a-4c50-a2d8-425caff0c512', metadata={'producer': 'Microsoft® Word 2019', 'creator': 'Microsoft® Word 2019', 'creationdate': '2025-03-12T23:34:03+07:00', 'source': './personal_info_sonakul.pdf', 'file_path': './personal_info_sonakul.pdf', 'total_pages': 1, 'format': 'PDF 1.7', 'title': '', 'author': 'sonakul kamnuanchai', 'subject': '', 'keywords': '', 'moddate': '2025-03-12T23:34:03+07:00', 'trapped': '', 'modDate': \"D:20250312233403+07'00'\", 'creationDate': \"D:20250312233403+07'00'\", 'page': 0}, page_content='• Exploring ways to integrate machine learning algorithms with computer networks to make \\nsystems more intelligent and efficient. \\n• Network Optimization using AI algorithms to enhance system stability and performance. \\n \\nCore Beliefs about Technology:  \\nI believe that technology should improve lives and adapt to societal needs, not replace humans \\nand technology should work in harmony with social values, ensuring that it helps solve \\nproblems without negatively impacting society.')]"
      ]
     },
     "execution_count": 16,
     "metadata": {},
     "output_type": "execute_result"
    }
   ],
   "source": [
    "retriever.get_relevant_documents(\"How old are you?\")"
   ]
  },
  {
   "cell_type": "code",
   "execution_count": 17,
   "metadata": {},
   "outputs": [
    {
     "data": {
      "text/plain": [
       "[Document(id='3acaaaed-a85d-4d87-9829-4fe0d13f34f8', metadata={'producer': 'Microsoft® Word 2019', 'creator': 'Microsoft® Word 2019', 'creationdate': '2025-03-12T23:34:03+07:00', 'source': './personal_info_sonakul.pdf', 'file_path': './personal_info_sonakul.pdf', 'total_pages': 1, 'format': 'PDF 1.7', 'title': '', 'author': 'sonakul kamnuanchai', 'subject': '', 'keywords': '', 'moddate': '2025-03-12T23:34:03+07:00', 'trapped': '', 'modDate': \"D:20250312233403+07'00'\", 'creationDate': \"D:20250312233403+07'00'\", 'page': 0}, page_content=\"Personal information \\nBasic Information: \\n• Name : Sonakul kamnuanchai \\n• Age: 29 years old \\n• Education: Bachelor's Degree in Computer Engineering from Mae Fah Luang University. \\nCurrently pursuing a Master's degree in Data Science and AI at AIT. \\n• Current Role: Network Engineer at PEA, managing router configurations for regional \\nelectricity sector services. \\n• Work experience: 4 years in Network Engineering and 2 years in IOS Developer. \\n \\nResearch Interests: \\n• Machine Learning (ML) and Natural Language Processing (NLP) for optimizing network \\nperformance and improving communication systems. \\n• Exploring ways to integrate machine learning algorithms with computer networks to make\"),\n",
       " Document(id='b7b80784-b10a-4c50-a2d8-425caff0c512', metadata={'producer': 'Microsoft® Word 2019', 'creator': 'Microsoft® Word 2019', 'creationdate': '2025-03-12T23:34:03+07:00', 'source': './personal_info_sonakul.pdf', 'file_path': './personal_info_sonakul.pdf', 'total_pages': 1, 'format': 'PDF 1.7', 'title': '', 'author': 'sonakul kamnuanchai', 'subject': '', 'keywords': '', 'moddate': '2025-03-12T23:34:03+07:00', 'trapped': '', 'modDate': \"D:20250312233403+07'00'\", 'creationDate': \"D:20250312233403+07'00'\", 'page': 0}, page_content='• Exploring ways to integrate machine learning algorithms with computer networks to make \\nsystems more intelligent and efficient. \\n• Network Optimization using AI algorithms to enhance system stability and performance. \\n \\nCore Beliefs about Technology:  \\nI believe that technology should improve lives and adapt to societal needs, not replace humans \\nand technology should work in harmony with social values, ensuring that it helps solve \\nproblems without negatively impacting society.')]"
      ]
     },
     "execution_count": 17,
     "metadata": {},
     "output_type": "execute_result"
    }
   ],
   "source": [
    "retriever.get_relevant_documents(\"What is your highest level of education?\")"
   ]
  },
  {
   "attachments": {},
   "cell_type": "markdown",
   "metadata": {},
   "source": [
    "## 3. Memory\n",
    "\n",
    "One of the core utility classes underpinning most (if not all) memory modules is the ChatMessageHistory class. This is a super lightweight wrapper that provides convenience methods for saving HumanMessages, AIMessages, and then fetching them all.\n",
    "\n",
    "You may want to use this class directly if you are managing memory outside of a chain.\n"
   ]
  },
  {
   "cell_type": "code",
   "execution_count": 18,
   "metadata": {},
   "outputs": [
    {
     "data": {
      "text/plain": [
       "InMemoryChatMessageHistory(messages=[])"
      ]
     },
     "execution_count": 18,
     "metadata": {},
     "output_type": "execute_result"
    }
   ],
   "source": [
    "from langchain.memory import ChatMessageHistory\n",
    "\n",
    "history = ChatMessageHistory()\n",
    "history"
   ]
  },
  {
   "cell_type": "code",
   "execution_count": 19,
   "metadata": {},
   "outputs": [],
   "source": [
    "history.add_user_message('hi')\n",
    "history.add_ai_message('Whats up?')\n",
    "history.add_user_message('How are you')\n",
    "history.add_ai_message('I\\'m quite good. How about you?')"
   ]
  },
  {
   "cell_type": "code",
   "execution_count": 20,
   "metadata": {},
   "outputs": [
    {
     "data": {
      "text/plain": [
       "InMemoryChatMessageHistory(messages=[HumanMessage(content='hi', additional_kwargs={}, response_metadata={}), AIMessage(content='Whats up?', additional_kwargs={}, response_metadata={}), HumanMessage(content='How are you', additional_kwargs={}, response_metadata={}), AIMessage(content=\"I'm quite good. How about you?\", additional_kwargs={}, response_metadata={})])"
      ]
     },
     "execution_count": 20,
     "metadata": {},
     "output_type": "execute_result"
    }
   ],
   "source": [
    "history"
   ]
  },
  {
   "attachments": {},
   "cell_type": "markdown",
   "metadata": {},
   "source": [
    "### 3.1 Memory types\n",
    "\n",
    "There are many different types of memory. Each has their own parameters, their own return types, and is useful in different scenarios. \n",
    "- Converstaion Buffer\n",
    "- Converstaion Buffer Window"
   ]
  },
  {
   "attachments": {},
   "cell_type": "markdown",
   "metadata": {},
   "source": [
    "What variables get returned from memory\n",
    "\n",
    "Before going into the chain, various variables are read from memory. These have specific names which need to align with the variables the chain expects. You can see what these variables are by calling memory.load_memory_variables({}). Note that the empty dictionary that we pass in is just a placeholder for real variables. If the memory type you are using is dependent upon the input variables, you may need to pass some in."
   ]
  },
  {
   "attachments": {},
   "cell_type": "markdown",
   "metadata": {},
   "source": [
    "In this case, you can see that load_memory_variables returns a single key, history. This means that your chain (and likely your prompt) should expect an input named history. You can usually control this variable through parameters on the memory class. For example, if you want the memory variables to be returned in the key chat_history you can do:"
   ]
  },
  {
   "attachments": {},
   "cell_type": "markdown",
   "metadata": {},
   "source": [
    "#### Converstaion Buffer\n",
    "This memory allows for storing messages and then extracts the messages in a variable."
   ]
  },
  {
   "cell_type": "code",
   "execution_count": 21,
   "metadata": {},
   "outputs": [
    {
     "name": "stderr",
     "output_type": "stream",
     "text": [
      "/tmp/ipykernel_5497/1450517278.py:3: LangChainDeprecationWarning: Please see the migration guide at: https://python.langchain.com/docs/versions/migrating_memory/\n",
      "  memory = ConversationBufferMemory()\n"
     ]
    },
    {
     "data": {
      "text/plain": [
       "{'history': \"Human: hi\\nAI: What's up?\\nHuman: How are you?\\nAI: I'm quite good. How about you?\"}"
      ]
     },
     "execution_count": 21,
     "metadata": {},
     "output_type": "execute_result"
    }
   ],
   "source": [
    "from langchain.memory import ConversationBufferMemory\n",
    "\n",
    "memory = ConversationBufferMemory()\n",
    "memory.save_context({'input':'hi'}, {'output':'What\\'s up?'})\n",
    "memory.save_context({\"input\":'How are you?'},{'output': 'I\\'m quite good. How about you?'})\n",
    "memory.load_memory_variables({})"
   ]
  },
  {
   "cell_type": "code",
   "execution_count": 22,
   "metadata": {},
   "outputs": [
    {
     "data": {
      "text/plain": [
       "{'history': [HumanMessage(content='hi', additional_kwargs={}, response_metadata={}),\n",
       "  AIMessage(content=\"What's up?\", additional_kwargs={}, response_metadata={}),\n",
       "  HumanMessage(content='How are you?', additional_kwargs={}, response_metadata={}),\n",
       "  AIMessage(content=\"I'm quite good. How about you?\", additional_kwargs={}, response_metadata={})]}"
      ]
     },
     "execution_count": 22,
     "metadata": {},
     "output_type": "execute_result"
    }
   ],
   "source": [
    "from langchain.memory import ConversationBufferMemory\n",
    "\n",
    "memory = ConversationBufferMemory(return_messages = True)\n",
    "memory.save_context({'input':'hi'}, {'output':'What\\'s up?'})\n",
    "memory.save_context({\"input\":'How are you?'},{'output': 'I\\'m quite good. How about you?'})\n",
    "memory.load_memory_variables({})"
   ]
  },
  {
   "attachments": {},
   "cell_type": "markdown",
   "metadata": {},
   "source": [
    "#### Conversation Buffer Window\n",
    "- it keeps a list of the interactions of the conversation over time. \n",
    "- it only uses the last K interactions. \n",
    "- it can be useful for keeping a sliding window of the most recent interactions, so the buffer does not get too large."
   ]
  },
  {
   "cell_type": "code",
   "execution_count": 23,
   "metadata": {},
   "outputs": [
    {
     "name": "stderr",
     "output_type": "stream",
     "text": [
      "/tmp/ipykernel_5497/1660141487.py:3: LangChainDeprecationWarning: Please see the migration guide at: https://python.langchain.com/docs/versions/migrating_memory/\n",
      "  memory = ConversationBufferWindowMemory(k=1)\n"
     ]
    },
    {
     "data": {
      "text/plain": [
       "{'history': \"Human: How are you?\\nAI: I'm quite good. How about you?\"}"
      ]
     },
     "execution_count": 23,
     "metadata": {},
     "output_type": "execute_result"
    }
   ],
   "source": [
    "from langchain.memory import ConversationBufferWindowMemory\n",
    "\n",
    "memory = ConversationBufferWindowMemory(k=1)\n",
    "memory.save_context({'input':'hi'}, {'output':'What\\'s up?'})\n",
    "memory.save_context({\"input\":'How are you?'},{'output': 'I\\'m quite good. How about you?'})\n",
    "memory.load_memory_variables({})"
   ]
  },
  {
   "attachments": {},
   "cell_type": "markdown",
   "metadata": {},
   "source": [
    "## 4. Chain\n",
    "\n",
    "Using an LLM in isolation is fine for simple applications, but more complex applications require chaining LLMs - either with each other or with other components.\n",
    "\n",
    "An `LLMChain` is a simple chain that adds some functionality around language models.\n",
    "- it consists of a `PromptTemplate` and a `LM` (either an LLM or chat model).\n",
    "- it formats the prompt template using the input key values provided (and also memory key values, if available), \n",
    "- it passes the formatted string to LLM and returns the LLM output.\n",
    "\n",
    "Note : [Download Fastchat Model Here](https://huggingface.co/lmsys/fastchat-t5-3b-v1.0)"
   ]
  },
  {
   "cell_type": "code",
   "execution_count": 24,
   "metadata": {},
   "outputs": [
    {
     "name": "stderr",
     "output_type": "stream",
     "text": [
      "2025-03-15 02:44:08.540244: E external/local_xla/xla/stream_executor/cuda/cuda_fft.cc:477] Unable to register cuFFT factory: Attempting to register factory for plugin cuFFT when one has already been registered\n",
      "WARNING: All log messages before absl::InitializeLog() is called are written to STDERR\n",
      "E0000 00:00:1742006648.562471    5497 cuda_dnn.cc:8310] Unable to register cuDNN factory: Attempting to register factory for plugin cuDNN when one has already been registered\n",
      "E0000 00:00:1742006648.569323    5497 cuda_blas.cc:1418] Unable to register cuBLAS factory: Attempting to register factory for plugin cuBLAS when one has already been registered\n",
      "2025-03-15 02:44:08.593061: I tensorflow/core/platform/cpu_feature_guard.cc:210] This TensorFlow binary is optimized to use available CPU instructions in performance-critical operations.\n",
      "To enable the following instructions: AVX2 FMA, in other operations, rebuild TensorFlow with the appropriate compiler flags.\n",
      "/home/jupyter-st124738/.local/lib/python3.12/site-packages/huggingface_hub/file_download.py:1150: FutureWarning: `resume_download` is deprecated and will be removed in version 1.0.0. Downloads always resume when possible. If you want to force a new download, use `force_download=True`.\n",
      "  warnings.warn(\n",
      "You are using the default legacy behaviour of the <class 'transformers.models.t5.tokenization_t5.T5Tokenizer'>. This is expected, and simply means that the `legacy` (previous) behavior will be used so nothing changes for you. If you want to use the new behaviour, set `legacy=False`. This should only be set if you understand what it means, and thouroughly read the reason why this was added as explained in https://github.com/huggingface/transformers/pull/24565\n",
      "Special tokens have been added in the vocabulary, make sure the associated word embeddings are fine-tuned or trained.\n",
      "Special tokens have been added in the vocabulary, make sure the associated word embeddings are fine-tuned or trained.\n"
     ]
    },
    {
     "data": {
      "application/vnd.jupyter.widget-view+json": {
       "model_id": "08ff3ab516e74ddcbd2624c095045e2e",
       "version_major": 2,
       "version_minor": 0
      },
      "text/plain": [
       "Loading checkpoint shards:   0%|          | 0/3 [00:00<?, ?it/s]"
      ]
     },
     "metadata": {},
     "output_type": "display_data"
    },
    {
     "name": "stderr",
     "output_type": "stream",
     "text": [
      "/tmp/ipykernel_5497/356765682.py:42: LangChainDeprecationWarning: The class `HuggingFacePipeline` was deprecated in LangChain 0.0.37 and will be removed in 1.0. An updated version of the class exists in the :class:`~langchain-huggingface package and should be used instead. To use it run `pip install -U :class:`~langchain-huggingface` and import as `from :class:`~langchain_huggingface import HuggingFacePipeline``.\n",
      "  llm = HuggingFacePipeline(pipeline=pipe)\n"
     ]
    }
   ],
   "source": [
    "from transformers import AutoTokenizer, pipeline, AutoModelForSeq2SeqLM\n",
    "from transformers import BitsAndBytesConfig\n",
    "from langchain import HuggingFacePipeline\n",
    "import torch\n",
    "\n",
    "model_id = 'lmsys/fastchat-t5-3b-v1.0'\n",
    "tokenizer = AutoTokenizer.from_pretrained(model_id)\n",
    "tokenizer.pad_token_id = tokenizer.eos_token_id\n",
    "model = AutoModelForSeq2SeqLM.from_pretrained(model_id)\n",
    "\n",
    "# Save the full-precision model and tokenizer\n",
    "model.save_pretrained(\"./model/t5\")\n",
    "tokenizer.save_pretrained(\"./model/t5\")\n",
    "\n",
    "# Define quantization config\n",
    "bitsandbyte_config = BitsAndBytesConfig(\n",
    "    load_in_4bit=True,\n",
    "    bnb_4bit_quant_type=\"nf4\",\n",
    "    bnb_4bit_compute_dtype=torch.float16,\n",
    "    bnb_4bit_use_double_quant=True\n",
    ")\n",
    "\n",
    "# Load the model again with quantization for runtime use\n",
    "model = AutoModelForSeq2SeqLM.from_pretrained(\n",
    "    \"./model/t5\",  # Load from saved full-precision model\n",
    "    quantization_config=bitsandbyte_config,  # Apply 4-bit quantization\n",
    "    device_map='auto'\n",
    ")\n",
    "\n",
    "# Set up the pipeline\n",
    "pipe = pipeline(\n",
    "    task=\"text2text-generation\",\n",
    "    model=model,\n",
    "    tokenizer=tokenizer,\n",
    "    max_new_tokens=256,\n",
    "    model_kwargs={\n",
    "        \"temperature\": 0,\n",
    "        \"repetition_penalty\": 1.5\n",
    "    }\n",
    ")\n",
    "\n",
    "llm = HuggingFacePipeline(pipeline=pipe)"
   ]
  },
  {
   "attachments": {},
   "cell_type": "markdown",
   "metadata": {},
   "source": [
    "### [Class ConversationalRetrievalChain](https://api.python.langchain.com/en/latest/_modules/langchain/chains/conversational_retrieval/base.html#ConversationalRetrievalChain)\n",
    "\n",
    "- `retriever` : Retriever to use to fetch documents.\n",
    "\n",
    "- `combine_docs_chain` : The chain used to combine any retrieved documents.\n",
    "\n",
    "- `question_generator`: The chain used to generate a new question for the sake of retrieval. This chain will take in the current question (with variable question) and any chat history (with variable chat_history) and will produce a new standalone question to be used later on.\n",
    "\n",
    "- `return_source_documents` : Return the retrieved source documents as part of the final result.\n",
    "\n",
    "- `get_chat_history` : An optional function to get a string of the chat history. If None is provided, will use a default.\n",
    "\n",
    "- `return_generated_question` : Return the generated question as part of the final result.\n",
    "\n",
    "- `response_if_no_docs_found` : If specified, the chain will return a fixed response if no docs are found for the question.\n"
   ]
  },
  {
   "attachments": {},
   "cell_type": "markdown",
   "metadata": {},
   "source": [
    "`question_generator`"
   ]
  },
  {
   "cell_type": "code",
   "execution_count": 25,
   "metadata": {},
   "outputs": [],
   "source": [
    "from langchain.chains import LLMChain\n",
    "from langchain.chains.conversational_retrieval.prompts import CONDENSE_QUESTION_PROMPT\n",
    "from langchain.memory import ConversationBufferWindowMemory\n",
    "from langchain.chains.question_answering import load_qa_chain\n",
    "from langchain.chains import ConversationalRetrievalChain"
   ]
  },
  {
   "cell_type": "code",
   "execution_count": 26,
   "metadata": {},
   "outputs": [
    {
     "data": {
      "text/plain": [
       "PromptTemplate(input_variables=['chat_history', 'question'], input_types={}, partial_variables={}, template='Given the following conversation and a follow up question, rephrase the follow up question to be a standalone question, in its original language.\\n\\nChat History:\\n{chat_history}\\nFollow Up Input: {question}\\nStandalone question:')"
      ]
     },
     "execution_count": 26,
     "metadata": {},
     "output_type": "execute_result"
    }
   ],
   "source": [
    "CONDENSE_QUESTION_PROMPT"
   ]
  },
  {
   "cell_type": "code",
   "execution_count": 27,
   "metadata": {},
   "outputs": [
    {
     "name": "stderr",
     "output_type": "stream",
     "text": [
      "/tmp/ipykernel_5497/3952007952.py:1: LangChainDeprecationWarning: The class `LLMChain` was deprecated in LangChain 0.1.17 and will be removed in 1.0. Use :meth:`~RunnableSequence, e.g., `prompt | llm`` instead.\n",
      "  question_generator = LLMChain(\n"
     ]
    }
   ],
   "source": [
    "question_generator = LLMChain(\n",
    "    llm = llm,\n",
    "    prompt = CONDENSE_QUESTION_PROMPT,\n",
    "    verbose = True\n",
    ")"
   ]
  },
  {
   "cell_type": "code",
   "execution_count": 28,
   "metadata": {},
   "outputs": [
    {
     "name": "stderr",
     "output_type": "stream",
     "text": [
      "/tmp/ipykernel_5497/3338227403.py:4: LangChainDeprecationWarning: The method `Chain.__call__` was deprecated in langchain 0.1.0 and will be removed in 1.0. Use :meth:`~invoke` instead.\n",
      "  question_generator({'chat_history' : chat_history, \"question\" : query})\n"
     ]
    },
    {
     "name": "stdout",
     "output_type": "stream",
     "text": [
      "\n",
      "\n",
      "\u001b[1m> Entering new LLMChain chain...\u001b[0m\n",
      "Prompt after formatting:\n",
      "\u001b[32;1m\u001b[1;3mGiven the following conversation and a follow up question, rephrase the follow up question to be a standalone question, in its original language.\n",
      "\n",
      "Chat History:\n",
      "Human:What is Machine Learning\n",
      "AI:\n",
      "Human:What is Deep Learning\n",
      "AI:\n",
      "Follow Up Input: Comparing both of them\n",
      "Standalone question:\u001b[0m\n",
      "\n",
      "\u001b[1m> Finished chain.\u001b[0m\n"
     ]
    },
    {
     "data": {
      "text/plain": [
       "{'chat_history': 'Human:What is Machine Learning\\nAI:\\nHuman:What is Deep Learning\\nAI:',\n",
       " 'question': 'Comparing both of them',\n",
       " 'text': '<pad> What  is  the  difference  between  Machine  Learning  and  Deep  Learning  AI?\\n'}"
      ]
     },
     "execution_count": 28,
     "metadata": {},
     "output_type": "execute_result"
    }
   ],
   "source": [
    "query = 'Comparing both of them'\n",
    "chat_history = \"Human:What is Machine Learning\\nAI:\\nHuman:What is Deep Learning\\nAI:\"\n",
    "\n",
    "question_generator({'chat_history' : chat_history, \"question\" : query})"
   ]
  },
  {
   "attachments": {},
   "cell_type": "markdown",
   "metadata": {},
   "source": [
    "`combine_docs_chain`"
   ]
  },
  {
   "cell_type": "code",
   "execution_count": 29,
   "metadata": {},
   "outputs": [
    {
     "name": "stderr",
     "output_type": "stream",
     "text": [
      "/tmp/ipykernel_5497/1999184610.py:1: LangChainDeprecationWarning: This class is deprecated. See the following migration guides for replacements based on `chain_type`:\n",
      "stuff: https://python.langchain.com/docs/versions/migrating_chains/stuff_docs_chain\n",
      "map_reduce: https://python.langchain.com/docs/versions/migrating_chains/map_reduce_chain\n",
      "refine: https://python.langchain.com/docs/versions/migrating_chains/refine_chain\n",
      "map_rerank: https://python.langchain.com/docs/versions/migrating_chains/map_rerank_docs_chain\n",
      "\n",
      "See also guides on retrieval and question-answering here: https://python.langchain.com/docs/how_to/#qa-with-rag\n",
      "  doc_chain = load_qa_chain(\n"
     ]
    },
    {
     "data": {
      "text/plain": [
       "StuffDocumentsChain(verbose=True, llm_chain=LLMChain(verbose=True, prompt=PromptTemplate(input_variables=['context', 'question'], input_types={}, partial_variables={}, template=\"Hey there! I'm SonakulBot, your super friendly and cute chatbot!\\n    If you're curious about anything related to me, feel free to ask! \\n    Whether it's about my age, my education, my work experience, or anything else, I'm here to share!\\n    I'll do my best to give you the most accurate and fun answers!\\n    Can't wait to chat with you!\\n    {context}\\n    Question: {question}\\n    Answer:\"), llm=HuggingFacePipeline(pipeline=<transformers.pipelines.text2text_generation.Text2TextGenerationPipeline object at 0x79d52e6859a0>), output_parser=StrOutputParser(), llm_kwargs={}), document_prompt=PromptTemplate(input_variables=['page_content'], input_types={}, partial_variables={}, template='{page_content}'), document_variable_name='context')"
      ]
     },
     "execution_count": 29,
     "metadata": {},
     "output_type": "execute_result"
    }
   ],
   "source": [
    "doc_chain = load_qa_chain(\n",
    "    llm = llm,\n",
    "    chain_type = 'stuff',\n",
    "    prompt = PROMPT,\n",
    "    verbose = True\n",
    ")\n",
    "doc_chain"
   ]
  },
  {
   "cell_type": "code",
   "execution_count": 30,
   "metadata": {
    "scrolled": true
   },
   "outputs": [
    {
     "name": "stdout",
     "output_type": "stream",
     "text": [
      "\n",
      "\n",
      "\u001b[1m> Entering new StuffDocumentsChain chain...\u001b[0m\n",
      "\n",
      "\n",
      "\u001b[1m> Entering new LLMChain chain...\u001b[0m\n",
      "Prompt after formatting:\n",
      "\u001b[32;1m\u001b[1;3mHey there! I'm SonakulBot, your super friendly and cute chatbot!\n",
      "    If you're curious about anything related to me, feel free to ask! \n",
      "    Whether it's about my age, my education, my work experience, or anything else, I'm here to share!\n",
      "    I'll do my best to give you the most accurate and fun answers!\n",
      "    Can't wait to chat with you!\n",
      "    Personal information \n",
      "Basic Information: \n",
      "• Name : Sonakul kamnuanchai \n",
      "• Age: 29 years old \n",
      "• Education: Bachelor's Degree in Computer Engineering from Mae Fah Luang University. \n",
      "Currently pursuing a Master's degree in Data Science and AI at AIT. \n",
      "• Current Role: Network Engineer at PEA, managing router configurations for regional \n",
      "electricity sector services. \n",
      "• Work experience: 4 years in Network Engineering and 2 years in IOS Developer. \n",
      " \n",
      "Research Interests: \n",
      "• Machine Learning (ML) and Natural Language Processing (NLP) for optimizing network \n",
      "performance and improving communication systems. \n",
      "• Exploring ways to integrate machine learning algorithms with computer networks to make\n",
      "\n",
      "• Exploring ways to integrate machine learning algorithms with computer networks to make \n",
      "systems more intelligent and efficient. \n",
      "• Network Optimization using AI algorithms to enhance system stability and performance. \n",
      " \n",
      "Core Beliefs about Technology:  \n",
      "I believe that technology should improve lives and adapt to societal needs, not replace humans \n",
      "and technology should work in harmony with social values, ensuring that it helps solve \n",
      "problems without negatively impacting society.\n",
      "    Question: What is your highest level of education?\n",
      "    Answer:\u001b[0m\n",
      "\n",
      "\u001b[1m> Finished chain.\u001b[0m\n",
      "\n",
      "\u001b[1m> Finished chain.\u001b[0m\n"
     ]
    },
    {
     "data": {
      "text/plain": [
       "{'input_documents': [Document(id='3acaaaed-a85d-4d87-9829-4fe0d13f34f8', metadata={'producer': 'Microsoft® Word 2019', 'creator': 'Microsoft® Word 2019', 'creationdate': '2025-03-12T23:34:03+07:00', 'source': './personal_info_sonakul.pdf', 'file_path': './personal_info_sonakul.pdf', 'total_pages': 1, 'format': 'PDF 1.7', 'title': '', 'author': 'sonakul kamnuanchai', 'subject': '', 'keywords': '', 'moddate': '2025-03-12T23:34:03+07:00', 'trapped': '', 'modDate': \"D:20250312233403+07'00'\", 'creationDate': \"D:20250312233403+07'00'\", 'page': 0}, page_content=\"Personal information \\nBasic Information: \\n• Name : Sonakul kamnuanchai \\n• Age: 29 years old \\n• Education: Bachelor's Degree in Computer Engineering from Mae Fah Luang University. \\nCurrently pursuing a Master's degree in Data Science and AI at AIT. \\n• Current Role: Network Engineer at PEA, managing router configurations for regional \\nelectricity sector services. \\n• Work experience: 4 years in Network Engineering and 2 years in IOS Developer. \\n \\nResearch Interests: \\n• Machine Learning (ML) and Natural Language Processing (NLP) for optimizing network \\nperformance and improving communication systems. \\n• Exploring ways to integrate machine learning algorithms with computer networks to make\"),\n",
       "  Document(id='b7b80784-b10a-4c50-a2d8-425caff0c512', metadata={'producer': 'Microsoft® Word 2019', 'creator': 'Microsoft® Word 2019', 'creationdate': '2025-03-12T23:34:03+07:00', 'source': './personal_info_sonakul.pdf', 'file_path': './personal_info_sonakul.pdf', 'total_pages': 1, 'format': 'PDF 1.7', 'title': '', 'author': 'sonakul kamnuanchai', 'subject': '', 'keywords': '', 'moddate': '2025-03-12T23:34:03+07:00', 'trapped': '', 'modDate': \"D:20250312233403+07'00'\", 'creationDate': \"D:20250312233403+07'00'\", 'page': 0}, page_content='• Exploring ways to integrate machine learning algorithms with computer networks to make \\nsystems more intelligent and efficient. \\n• Network Optimization using AI algorithms to enhance system stability and performance. \\n \\nCore Beliefs about Technology:  \\nI believe that technology should improve lives and adapt to societal needs, not replace humans \\nand technology should work in harmony with social values, ensuring that it helps solve \\nproblems without negatively impacting society.')],\n",
       " 'question': 'What is your highest level of education?',\n",
       " 'output_text': \"<pad> My  highest  level  of  education  is  a  Bachelor's  Degree  in  Computer  Engineering  from  Mae  Fah  Luang  University.\\n\"}"
      ]
     },
     "execution_count": 30,
     "metadata": {},
     "output_type": "execute_result"
    }
   ],
   "source": [
    "query = \"What is your highest level of education?\"\n",
    "input_document = retriever.get_relevant_documents(query)\n",
    "\n",
    "doc_chain({'input_documents':input_document, 'question':query})"
   ]
  },
  {
   "cell_type": "code",
   "execution_count": 31,
   "metadata": {},
   "outputs": [
    {
     "name": "stderr",
     "output_type": "stream",
     "text": [
      "/tmp/ipykernel_5497/4136652467.py:8: LangChainDeprecationWarning: The class `ConversationalRetrievalChain` was deprecated in LangChain 0.1.17 and will be removed in 1.0. Use :meth:`~create_history_aware_retriever together with create_retrieval_chain (see example in docstring)` instead.\n",
      "  chain = ConversationalRetrievalChain(\n"
     ]
    },
    {
     "data": {
      "text/plain": [
       "ConversationalRetrievalChain(memory=ConversationBufferWindowMemory(chat_memory=InMemoryChatMessageHistory(messages=[]), output_key='answer', return_messages=True, memory_key='chat_history', k=3), verbose=True, combine_docs_chain=StuffDocumentsChain(verbose=True, llm_chain=LLMChain(verbose=True, prompt=PromptTemplate(input_variables=['context', 'question'], input_types={}, partial_variables={}, template=\"Hey there! I'm SonakulBot, your super friendly and cute chatbot!\\n    If you're curious about anything related to me, feel free to ask! \\n    Whether it's about my age, my education, my work experience, or anything else, I'm here to share!\\n    I'll do my best to give you the most accurate and fun answers!\\n    Can't wait to chat with you!\\n    {context}\\n    Question: {question}\\n    Answer:\"), llm=HuggingFacePipeline(pipeline=<transformers.pipelines.text2text_generation.Text2TextGenerationPipeline object at 0x79d52e6859a0>), output_parser=StrOutputParser(), llm_kwargs={}), document_prompt=PromptTemplate(input_variables=['page_content'], input_types={}, partial_variables={}, template='{page_content}'), document_variable_name='context'), question_generator=LLMChain(verbose=True, prompt=PromptTemplate(input_variables=['chat_history', 'question'], input_types={}, partial_variables={}, template='Given the following conversation and a follow up question, rephrase the follow up question to be a standalone question, in its original language.\\n\\nChat History:\\n{chat_history}\\nFollow Up Input: {question}\\nStandalone question:'), llm=HuggingFacePipeline(pipeline=<transformers.pipelines.text2text_generation.Text2TextGenerationPipeline object at 0x79d52e6859a0>), output_parser=StrOutputParser(), llm_kwargs={}), return_source_documents=True, get_chat_history=<function <lambda> at 0x79d52e8b3ec0>, retriever=VectorStoreRetriever(tags=['FAISS', 'HuggingFaceInstructEmbeddings'], vectorstore=<langchain_community.vectorstores.faiss.FAISS object at 0x79d54c813d40>, search_kwargs={}))"
      ]
     },
     "execution_count": 31,
     "metadata": {},
     "output_type": "execute_result"
    }
   ],
   "source": [
    "memory = ConversationBufferWindowMemory(\n",
    "    k=3, \n",
    "    memory_key = \"chat_history\",\n",
    "    return_messages = True,\n",
    "    output_key = 'answer'\n",
    ")\n",
    "\n",
    "chain = ConversationalRetrievalChain(\n",
    "    retriever=retriever,\n",
    "    question_generator=question_generator,\n",
    "    combine_docs_chain=doc_chain,\n",
    "    return_source_documents=True,\n",
    "    memory=memory,\n",
    "    verbose=True,\n",
    "    get_chat_history=lambda h : h\n",
    ")\n",
    "chain"
   ]
  },
  {
   "attachments": {},
   "cell_type": "markdown",
   "metadata": {},
   "source": [
    "## 5. Chatbot"
   ]
  },
  {
   "cell_type": "code",
   "execution_count": null,
   "metadata": {},
   "outputs": [],
   "source": [
    "import cloudpickle\n",
    "\n",
    "def save_model(chain, filename):\n",
    "    if hasattr(chain, 'pipeline') and hasattr(chain.pipeline, 'model'):\n",
    "        chain.pipeline.model.to('cpu')  # Adjust for HuggingFacePipeline\n",
    "    with open(filename, 'wb') as f:\n",
    "        cloudpickle.dump(chain, f)"
   ]
  },
  {
   "cell_type": "code",
   "execution_count": null,
   "metadata": {},
   "outputs": [],
   "source": [
    "save_model(chain, './model/chain.pkl')"
   ]
  },
  {
   "cell_type": "code",
   "execution_count": 35,
   "metadata": {},
   "outputs": [],
   "source": [
    "import re\n",
    "import json\n",
    "\n",
    "qa_pairs = []\n",
    "\n",
    "def clean_answer(answer):\n",
    "    answer = re.sub(r'<pad>', '', answer)\n",
    "    answer = re.sub(r'pad>', '', answer)\n",
    "    answer = re.sub(r'\\s+', ' ', answer)\n",
    "    answer = answer.strip()\n",
    "    return answer\n"
   ]
  },
  {
   "cell_type": "code",
   "execution_count": 36,
   "metadata": {},
   "outputs": [
    {
     "name": "stdout",
     "output_type": "stream",
     "text": [
      "\n",
      "\n",
      "\u001b[1m> Entering new ConversationalRetrievalChain chain...\u001b[0m\n",
      "\n",
      "\n",
      "\u001b[1m> Entering new StuffDocumentsChain chain...\u001b[0m\n",
      "\n",
      "\n",
      "\u001b[1m> Entering new LLMChain chain...\u001b[0m\n",
      "Prompt after formatting:\n",
      "\u001b[32;1m\u001b[1;3mHey there! I'm SonakulBot, your super friendly and cute chatbot!\n",
      "    If you're curious about anything related to me, feel free to ask! \n",
      "    Whether it's about my age, my education, my work experience, or anything else, I'm here to share!\n",
      "    I'll do my best to give you the most accurate and fun answers!\n",
      "    Can't wait to chat with you!\n",
      "    Personal information \n",
      "Basic Information: \n",
      "• Name : Sonakul kamnuanchai \n",
      "• Age: 29 years old \n",
      "• Education: Bachelor's Degree in Computer Engineering from Mae Fah Luang University. \n",
      "Currently pursuing a Master's degree in Data Science and AI at AIT. \n",
      "• Current Role: Network Engineer at PEA, managing router configurations for regional \n",
      "electricity sector services. \n",
      "• Work experience: 4 years in Network Engineering and 2 years in IOS Developer. \n",
      " \n",
      "Research Interests: \n",
      "• Machine Learning (ML) and Natural Language Processing (NLP) for optimizing network \n",
      "performance and improving communication systems. \n",
      "• Exploring ways to integrate machine learning algorithms with computer networks to make\n",
      "\n",
      "• Exploring ways to integrate machine learning algorithms with computer networks to make \n",
      "systems more intelligent and efficient. \n",
      "• Network Optimization using AI algorithms to enhance system stability and performance. \n",
      " \n",
      "Core Beliefs about Technology:  \n",
      "I believe that technology should improve lives and adapt to societal needs, not replace humans \n",
      "and technology should work in harmony with social values, ensuring that it helps solve \n",
      "problems without negatively impacting society.\n",
      "    Question: How old are you?\n",
      "    Answer:\u001b[0m\n",
      "\n",
      "\u001b[1m> Finished chain.\u001b[0m\n",
      "\n",
      "\u001b[1m> Finished chain.\u001b[0m\n",
      "\n",
      "\u001b[1m> Finished chain.\u001b[0m\n"
     ]
    },
    {
     "data": {
      "text/plain": [
       "{'question': 'How old are you?',\n",
       " 'chat_history': [],\n",
       " 'answer': '<pad> 29  years  old.\\n',\n",
       " 'source_documents': [Document(id='3acaaaed-a85d-4d87-9829-4fe0d13f34f8', metadata={'producer': 'Microsoft® Word 2019', 'creator': 'Microsoft® Word 2019', 'creationdate': '2025-03-12T23:34:03+07:00', 'source': './personal_info_sonakul.pdf', 'file_path': './personal_info_sonakul.pdf', 'total_pages': 1, 'format': 'PDF 1.7', 'title': '', 'author': 'sonakul kamnuanchai', 'subject': '', 'keywords': '', 'moddate': '2025-03-12T23:34:03+07:00', 'trapped': '', 'modDate': \"D:20250312233403+07'00'\", 'creationDate': \"D:20250312233403+07'00'\", 'page': 0}, page_content=\"Personal information \\nBasic Information: \\n• Name : Sonakul kamnuanchai \\n• Age: 29 years old \\n• Education: Bachelor's Degree in Computer Engineering from Mae Fah Luang University. \\nCurrently pursuing a Master's degree in Data Science and AI at AIT. \\n• Current Role: Network Engineer at PEA, managing router configurations for regional \\nelectricity sector services. \\n• Work experience: 4 years in Network Engineering and 2 years in IOS Developer. \\n \\nResearch Interests: \\n• Machine Learning (ML) and Natural Language Processing (NLP) for optimizing network \\nperformance and improving communication systems. \\n• Exploring ways to integrate machine learning algorithms with computer networks to make\"),\n",
       "  Document(id='b7b80784-b10a-4c50-a2d8-425caff0c512', metadata={'producer': 'Microsoft® Word 2019', 'creator': 'Microsoft® Word 2019', 'creationdate': '2025-03-12T23:34:03+07:00', 'source': './personal_info_sonakul.pdf', 'file_path': './personal_info_sonakul.pdf', 'total_pages': 1, 'format': 'PDF 1.7', 'title': '', 'author': 'sonakul kamnuanchai', 'subject': '', 'keywords': '', 'moddate': '2025-03-12T23:34:03+07:00', 'trapped': '', 'modDate': \"D:20250312233403+07'00'\", 'creationDate': \"D:20250312233403+07'00'\", 'page': 0}, page_content='• Exploring ways to integrate machine learning algorithms with computer networks to make \\nsystems more intelligent and efficient. \\n• Network Optimization using AI algorithms to enhance system stability and performance. \\n \\nCore Beliefs about Technology:  \\nI believe that technology should improve lives and adapt to societal needs, not replace humans \\nand technology should work in harmony with social values, ensuring that it helps solve \\nproblems without negatively impacting society.')]}"
      ]
     },
     "execution_count": 36,
     "metadata": {},
     "output_type": "execute_result"
    }
   ],
   "source": [
    "prompt_question = \"How old are you?\"\n",
    "answer = chain({\"question\":prompt_question})\n",
    "answer"
   ]
  },
  {
   "cell_type": "code",
   "execution_count": 37,
   "metadata": {},
   "outputs": [],
   "source": [
    "cleaned_answer = clean_answer(answer['answer'])\n",
    "qa_pair = {\n",
    "    \"question\": prompt_question,\n",
    "    \"answer\": cleaned_answer \n",
    "}\n",
    "qa_pairs.append(qa_pair)"
   ]
  },
  {
   "cell_type": "code",
   "execution_count": 38,
   "metadata": {},
   "outputs": [
    {
     "name": "stdout",
     "output_type": "stream",
     "text": [
      "\n",
      "\n",
      "\u001b[1m> Entering new ConversationalRetrievalChain chain...\u001b[0m\n",
      "\n",
      "\n",
      "\u001b[1m> Entering new LLMChain chain...\u001b[0m\n",
      "Prompt after formatting:\n",
      "\u001b[32;1m\u001b[1;3mGiven the following conversation and a follow up question, rephrase the follow up question to be a standalone question, in its original language.\n",
      "\n",
      "Chat History:\n",
      "[HumanMessage(content='How old are you?', additional_kwargs={}, response_metadata={}), AIMessage(content='<pad> 29  years  old.\\n', additional_kwargs={}, response_metadata={})]\n",
      "Follow Up Input: What is your highest level of education?\n",
      "Standalone question:\u001b[0m\n",
      "\n",
      "\u001b[1m> Finished chain.\u001b[0m\n",
      "\n",
      "\n",
      "\u001b[1m> Entering new StuffDocumentsChain chain...\u001b[0m\n",
      "\n",
      "\n",
      "\u001b[1m> Entering new LLMChain chain...\u001b[0m\n",
      "Prompt after formatting:\n",
      "\u001b[32;1m\u001b[1;3mHey there! I'm SonakulBot, your super friendly and cute chatbot!\n",
      "    If you're curious about anything related to me, feel free to ask! \n",
      "    Whether it's about my age, my education, my work experience, or anything else, I'm here to share!\n",
      "    I'll do my best to give you the most accurate and fun answers!\n",
      "    Can't wait to chat with you!\n",
      "    Personal information \n",
      "Basic Information: \n",
      "• Name : Sonakul kamnuanchai \n",
      "• Age: 29 years old \n",
      "• Education: Bachelor's Degree in Computer Engineering from Mae Fah Luang University. \n",
      "Currently pursuing a Master's degree in Data Science and AI at AIT. \n",
      "• Current Role: Network Engineer at PEA, managing router configurations for regional \n",
      "electricity sector services. \n",
      "• Work experience: 4 years in Network Engineering and 2 years in IOS Developer. \n",
      " \n",
      "Research Interests: \n",
      "• Machine Learning (ML) and Natural Language Processing (NLP) for optimizing network \n",
      "performance and improving communication systems. \n",
      "• Exploring ways to integrate machine learning algorithms with computer networks to make\n",
      "\n",
      "• Exploring ways to integrate machine learning algorithms with computer networks to make \n",
      "systems more intelligent and efficient. \n",
      "• Network Optimization using AI algorithms to enhance system stability and performance. \n",
      " \n",
      "Core Beliefs about Technology:  \n",
      "I believe that technology should improve lives and adapt to societal needs, not replace humans \n",
      "and technology should work in harmony with social values, ensuring that it helps solve \n",
      "problems without negatively impacting society.\n",
      "    Question: <pad> What  is  your  highest  level  of  education?\n",
      "\n",
      "    Answer:\u001b[0m\n",
      "\n",
      "\u001b[1m> Finished chain.\u001b[0m\n",
      "\n",
      "\u001b[1m> Finished chain.\u001b[0m\n",
      "\n",
      "\u001b[1m> Finished chain.\u001b[0m\n"
     ]
    },
    {
     "data": {
      "text/plain": [
       "{'question': 'What is your highest level of education?',\n",
       " 'chat_history': [HumanMessage(content='How old are you?', additional_kwargs={}, response_metadata={}),\n",
       "  AIMessage(content='<pad> 29  years  old.\\n', additional_kwargs={}, response_metadata={})],\n",
       " 'answer': \"<pad>  Bachelor's  Degree  in  Computer  Engineering  from  Mae  Fah  Luang  University\\n\",\n",
       " 'source_documents': [Document(id='3acaaaed-a85d-4d87-9829-4fe0d13f34f8', metadata={'producer': 'Microsoft® Word 2019', 'creator': 'Microsoft® Word 2019', 'creationdate': '2025-03-12T23:34:03+07:00', 'source': './personal_info_sonakul.pdf', 'file_path': './personal_info_sonakul.pdf', 'total_pages': 1, 'format': 'PDF 1.7', 'title': '', 'author': 'sonakul kamnuanchai', 'subject': '', 'keywords': '', 'moddate': '2025-03-12T23:34:03+07:00', 'trapped': '', 'modDate': \"D:20250312233403+07'00'\", 'creationDate': \"D:20250312233403+07'00'\", 'page': 0}, page_content=\"Personal information \\nBasic Information: \\n• Name : Sonakul kamnuanchai \\n• Age: 29 years old \\n• Education: Bachelor's Degree in Computer Engineering from Mae Fah Luang University. \\nCurrently pursuing a Master's degree in Data Science and AI at AIT. \\n• Current Role: Network Engineer at PEA, managing router configurations for regional \\nelectricity sector services. \\n• Work experience: 4 years in Network Engineering and 2 years in IOS Developer. \\n \\nResearch Interests: \\n• Machine Learning (ML) and Natural Language Processing (NLP) for optimizing network \\nperformance and improving communication systems. \\n• Exploring ways to integrate machine learning algorithms with computer networks to make\"),\n",
       "  Document(id='b7b80784-b10a-4c50-a2d8-425caff0c512', metadata={'producer': 'Microsoft® Word 2019', 'creator': 'Microsoft® Word 2019', 'creationdate': '2025-03-12T23:34:03+07:00', 'source': './personal_info_sonakul.pdf', 'file_path': './personal_info_sonakul.pdf', 'total_pages': 1, 'format': 'PDF 1.7', 'title': '', 'author': 'sonakul kamnuanchai', 'subject': '', 'keywords': '', 'moddate': '2025-03-12T23:34:03+07:00', 'trapped': '', 'modDate': \"D:20250312233403+07'00'\", 'creationDate': \"D:20250312233403+07'00'\", 'page': 0}, page_content='• Exploring ways to integrate machine learning algorithms with computer networks to make \\nsystems more intelligent and efficient. \\n• Network Optimization using AI algorithms to enhance system stability and performance. \\n \\nCore Beliefs about Technology:  \\nI believe that technology should improve lives and adapt to societal needs, not replace humans \\nand technology should work in harmony with social values, ensuring that it helps solve \\nproblems without negatively impacting society.')]}"
      ]
     },
     "execution_count": 38,
     "metadata": {},
     "output_type": "execute_result"
    }
   ],
   "source": [
    "prompt_question = \"What is your highest level of education?\"\n",
    "answer = chain({\"question\":prompt_question})\n",
    "answer"
   ]
  },
  {
   "cell_type": "code",
   "execution_count": 39,
   "metadata": {},
   "outputs": [],
   "source": [
    "cleaned_answer = clean_answer(answer['answer'])\n",
    "qa_pair = {\n",
    "    \"question\": prompt_question,\n",
    "    \"answer\": cleaned_answer \n",
    "}\n",
    "qa_pairs.append(qa_pair)"
   ]
  },
  {
   "cell_type": "code",
   "execution_count": 40,
   "metadata": {},
   "outputs": [
    {
     "name": "stdout",
     "output_type": "stream",
     "text": [
      "\n",
      "\n",
      "\u001b[1m> Entering new ConversationalRetrievalChain chain...\u001b[0m\n",
      "\n",
      "\n",
      "\u001b[1m> Entering new LLMChain chain...\u001b[0m\n",
      "Prompt after formatting:\n",
      "\u001b[32;1m\u001b[1;3mGiven the following conversation and a follow up question, rephrase the follow up question to be a standalone question, in its original language.\n",
      "\n",
      "Chat History:\n",
      "[HumanMessage(content='How old are you?', additional_kwargs={}, response_metadata={}), AIMessage(content='<pad> 29  years  old.\\n', additional_kwargs={}, response_metadata={}), HumanMessage(content='What is your highest level of education?', additional_kwargs={}, response_metadata={}), AIMessage(content=\"<pad>  Bachelor's  Degree  in  Computer  Engineering  from  Mae  Fah  Luang  University\\n\", additional_kwargs={}, response_metadata={})]\n",
      "Follow Up Input: What major or field of study did you pursue during your education?\n",
      "Standalone question:\u001b[0m\n",
      "\n",
      "\u001b[1m> Finished chain.\u001b[0m\n",
      "\n",
      "\n",
      "\u001b[1m> Entering new StuffDocumentsChain chain...\u001b[0m\n",
      "\n",
      "\n",
      "\u001b[1m> Entering new LLMChain chain...\u001b[0m\n",
      "Prompt after formatting:\n",
      "\u001b[32;1m\u001b[1;3mHey there! I'm SonakulBot, your super friendly and cute chatbot!\n",
      "    If you're curious about anything related to me, feel free to ask! \n",
      "    Whether it's about my age, my education, my work experience, or anything else, I'm here to share!\n",
      "    I'll do my best to give you the most accurate and fun answers!\n",
      "    Can't wait to chat with you!\n",
      "    Personal information \n",
      "Basic Information: \n",
      "• Name : Sonakul kamnuanchai \n",
      "• Age: 29 years old \n",
      "• Education: Bachelor's Degree in Computer Engineering from Mae Fah Luang University. \n",
      "Currently pursuing a Master's degree in Data Science and AI at AIT. \n",
      "• Current Role: Network Engineer at PEA, managing router configurations for regional \n",
      "electricity sector services. \n",
      "• Work experience: 4 years in Network Engineering and 2 years in IOS Developer. \n",
      " \n",
      "Research Interests: \n",
      "• Machine Learning (ML) and Natural Language Processing (NLP) for optimizing network \n",
      "performance and improving communication systems. \n",
      "• Exploring ways to integrate machine learning algorithms with computer networks to make\n",
      "\n",
      "• Exploring ways to integrate machine learning algorithms with computer networks to make \n",
      "systems more intelligent and efficient. \n",
      "• Network Optimization using AI algorithms to enhance system stability and performance. \n",
      " \n",
      "Core Beliefs about Technology:  \n",
      "I believe that technology should improve lives and adapt to societal needs, not replace humans \n",
      "and technology should work in harmony with social values, ensuring that it helps solve \n",
      "problems without negatively impacting society.\n",
      "    Question: <pad> What  was  your  major  or  field  of  study  during  your  education?\n",
      "\n",
      "    Answer:\u001b[0m\n",
      "\n",
      "\u001b[1m> Finished chain.\u001b[0m\n",
      "\n",
      "\u001b[1m> Finished chain.\u001b[0m\n",
      "\n",
      "\u001b[1m> Finished chain.\u001b[0m\n"
     ]
    },
    {
     "data": {
      "text/plain": [
       "{'question': 'What major or field of study did you pursue during your education?',\n",
       " 'chat_history': [HumanMessage(content='How old are you?', additional_kwargs={}, response_metadata={}),\n",
       "  AIMessage(content='<pad> 29  years  old.\\n', additional_kwargs={}, response_metadata={}),\n",
       "  HumanMessage(content='What is your highest level of education?', additional_kwargs={}, response_metadata={}),\n",
       "  AIMessage(content=\"<pad>  Bachelor's  Degree  in  Computer  Engineering  from  Mae  Fah  Luang  University\\n\", additional_kwargs={}, response_metadata={})],\n",
       " 'answer': \"<pad>   pad>  Bachelor's  Degree  in  Computer  Engineering\\n\",\n",
       " 'source_documents': [Document(id='3acaaaed-a85d-4d87-9829-4fe0d13f34f8', metadata={'producer': 'Microsoft® Word 2019', 'creator': 'Microsoft® Word 2019', 'creationdate': '2025-03-12T23:34:03+07:00', 'source': './personal_info_sonakul.pdf', 'file_path': './personal_info_sonakul.pdf', 'total_pages': 1, 'format': 'PDF 1.7', 'title': '', 'author': 'sonakul kamnuanchai', 'subject': '', 'keywords': '', 'moddate': '2025-03-12T23:34:03+07:00', 'trapped': '', 'modDate': \"D:20250312233403+07'00'\", 'creationDate': \"D:20250312233403+07'00'\", 'page': 0}, page_content=\"Personal information \\nBasic Information: \\n• Name : Sonakul kamnuanchai \\n• Age: 29 years old \\n• Education: Bachelor's Degree in Computer Engineering from Mae Fah Luang University. \\nCurrently pursuing a Master's degree in Data Science and AI at AIT. \\n• Current Role: Network Engineer at PEA, managing router configurations for regional \\nelectricity sector services. \\n• Work experience: 4 years in Network Engineering and 2 years in IOS Developer. \\n \\nResearch Interests: \\n• Machine Learning (ML) and Natural Language Processing (NLP) for optimizing network \\nperformance and improving communication systems. \\n• Exploring ways to integrate machine learning algorithms with computer networks to make\"),\n",
       "  Document(id='b7b80784-b10a-4c50-a2d8-425caff0c512', metadata={'producer': 'Microsoft® Word 2019', 'creator': 'Microsoft® Word 2019', 'creationdate': '2025-03-12T23:34:03+07:00', 'source': './personal_info_sonakul.pdf', 'file_path': './personal_info_sonakul.pdf', 'total_pages': 1, 'format': 'PDF 1.7', 'title': '', 'author': 'sonakul kamnuanchai', 'subject': '', 'keywords': '', 'moddate': '2025-03-12T23:34:03+07:00', 'trapped': '', 'modDate': \"D:20250312233403+07'00'\", 'creationDate': \"D:20250312233403+07'00'\", 'page': 0}, page_content='• Exploring ways to integrate machine learning algorithms with computer networks to make \\nsystems more intelligent and efficient. \\n• Network Optimization using AI algorithms to enhance system stability and performance. \\n \\nCore Beliefs about Technology:  \\nI believe that technology should improve lives and adapt to societal needs, not replace humans \\nand technology should work in harmony with social values, ensuring that it helps solve \\nproblems without negatively impacting society.')]}"
      ]
     },
     "execution_count": 40,
     "metadata": {},
     "output_type": "execute_result"
    }
   ],
   "source": [
    "prompt_question = \"What major or field of study did you pursue during your education?\"\n",
    "answer = chain({\"question\":prompt_question})\n",
    "answer"
   ]
  },
  {
   "cell_type": "code",
   "execution_count": 41,
   "metadata": {},
   "outputs": [],
   "source": [
    "cleaned_answer = clean_answer(answer['answer'])\n",
    "qa_pair = {\n",
    "    \"question\": prompt_question,\n",
    "    \"answer\": cleaned_answer \n",
    "}\n",
    "qa_pairs.append(qa_pair)"
   ]
  },
  {
   "cell_type": "code",
   "execution_count": 42,
   "metadata": {},
   "outputs": [
    {
     "name": "stdout",
     "output_type": "stream",
     "text": [
      "\n",
      "\n",
      "\u001b[1m> Entering new ConversationalRetrievalChain chain...\u001b[0m\n",
      "\n",
      "\n",
      "\u001b[1m> Entering new LLMChain chain...\u001b[0m\n",
      "Prompt after formatting:\n",
      "\u001b[32;1m\u001b[1;3mGiven the following conversation and a follow up question, rephrase the follow up question to be a standalone question, in its original language.\n",
      "\n",
      "Chat History:\n",
      "[HumanMessage(content='How old are you?', additional_kwargs={}, response_metadata={}), AIMessage(content='<pad> 29  years  old.\\n', additional_kwargs={}, response_metadata={}), HumanMessage(content='What is your highest level of education?', additional_kwargs={}, response_metadata={}), AIMessage(content=\"<pad>  Bachelor's  Degree  in  Computer  Engineering  from  Mae  Fah  Luang  University\\n\", additional_kwargs={}, response_metadata={}), HumanMessage(content='What major or field of study did you pursue during your education?', additional_kwargs={}, response_metadata={}), AIMessage(content=\"<pad>   pad>  Bachelor's  Degree  in  Computer  Engineering\\n\", additional_kwargs={}, response_metadata={})]\n",
      "Follow Up Input: What major or field of study did you pursue during your education?\n",
      "Standalone question:\u001b[0m\n",
      "\n",
      "\u001b[1m> Finished chain.\u001b[0m\n",
      "\n",
      "\n",
      "\u001b[1m> Entering new StuffDocumentsChain chain...\u001b[0m\n",
      "\n",
      "\n",
      "\u001b[1m> Entering new LLMChain chain...\u001b[0m\n",
      "Prompt after formatting:\n",
      "\u001b[32;1m\u001b[1;3mHey there! I'm SonakulBot, your super friendly and cute chatbot!\n",
      "    If you're curious about anything related to me, feel free to ask! \n",
      "    Whether it's about my age, my education, my work experience, or anything else, I'm here to share!\n",
      "    I'll do my best to give you the most accurate and fun answers!\n",
      "    Can't wait to chat with you!\n",
      "    Personal information \n",
      "Basic Information: \n",
      "• Name : Sonakul kamnuanchai \n",
      "• Age: 29 years old \n",
      "• Education: Bachelor's Degree in Computer Engineering from Mae Fah Luang University. \n",
      "Currently pursuing a Master's degree in Data Science and AI at AIT. \n",
      "• Current Role: Network Engineer at PEA, managing router configurations for regional \n",
      "electricity sector services. \n",
      "• Work experience: 4 years in Network Engineering and 2 years in IOS Developer. \n",
      " \n",
      "Research Interests: \n",
      "• Machine Learning (ML) and Natural Language Processing (NLP) for optimizing network \n",
      "performance and improving communication systems. \n",
      "• Exploring ways to integrate machine learning algorithms with computer networks to make\n",
      "\n",
      "• Exploring ways to integrate machine learning algorithms with computer networks to make \n",
      "systems more intelligent and efficient. \n",
      "• Network Optimization using AI algorithms to enhance system stability and performance. \n",
      " \n",
      "Core Beliefs about Technology:  \n",
      "I believe that technology should improve lives and adapt to societal needs, not replace humans \n",
      "and technology should work in harmony with social values, ensuring that it helps solve \n",
      "problems without negatively impacting society.\n",
      "    Question: <pad>  What  was  your  major  or  field  of  study  during  your  education?\n",
      "\n",
      "    Answer:\u001b[0m\n",
      "\n",
      "\u001b[1m> Finished chain.\u001b[0m\n",
      "\n",
      "\u001b[1m> Finished chain.\u001b[0m\n",
      "\n",
      "\u001b[1m> Finished chain.\u001b[0m\n"
     ]
    },
    {
     "data": {
      "text/plain": [
       "{'question': 'What major or field of study did you pursue during your education?',\n",
       " 'chat_history': [HumanMessage(content='How old are you?', additional_kwargs={}, response_metadata={}),\n",
       "  AIMessage(content='<pad> 29  years  old.\\n', additional_kwargs={}, response_metadata={}),\n",
       "  HumanMessage(content='What is your highest level of education?', additional_kwargs={}, response_metadata={}),\n",
       "  AIMessage(content=\"<pad>  Bachelor's  Degree  in  Computer  Engineering  from  Mae  Fah  Luang  University\\n\", additional_kwargs={}, response_metadata={}),\n",
       "  HumanMessage(content='What major or field of study did you pursue during your education?', additional_kwargs={}, response_metadata={}),\n",
       "  AIMessage(content=\"<pad>   pad>  Bachelor's  Degree  in  Computer  Engineering\\n\", additional_kwargs={}, response_metadata={})],\n",
       " 'answer': \"<pad>   pad>  Bachelor's  Degree  in  Computer  Engineering\\n\",\n",
       " 'source_documents': [Document(id='3acaaaed-a85d-4d87-9829-4fe0d13f34f8', metadata={'producer': 'Microsoft® Word 2019', 'creator': 'Microsoft® Word 2019', 'creationdate': '2025-03-12T23:34:03+07:00', 'source': './personal_info_sonakul.pdf', 'file_path': './personal_info_sonakul.pdf', 'total_pages': 1, 'format': 'PDF 1.7', 'title': '', 'author': 'sonakul kamnuanchai', 'subject': '', 'keywords': '', 'moddate': '2025-03-12T23:34:03+07:00', 'trapped': '', 'modDate': \"D:20250312233403+07'00'\", 'creationDate': \"D:20250312233403+07'00'\", 'page': 0}, page_content=\"Personal information \\nBasic Information: \\n• Name : Sonakul kamnuanchai \\n• Age: 29 years old \\n• Education: Bachelor's Degree in Computer Engineering from Mae Fah Luang University. \\nCurrently pursuing a Master's degree in Data Science and AI at AIT. \\n• Current Role: Network Engineer at PEA, managing router configurations for regional \\nelectricity sector services. \\n• Work experience: 4 years in Network Engineering and 2 years in IOS Developer. \\n \\nResearch Interests: \\n• Machine Learning (ML) and Natural Language Processing (NLP) for optimizing network \\nperformance and improving communication systems. \\n• Exploring ways to integrate machine learning algorithms with computer networks to make\"),\n",
       "  Document(id='b7b80784-b10a-4c50-a2d8-425caff0c512', metadata={'producer': 'Microsoft® Word 2019', 'creator': 'Microsoft® Word 2019', 'creationdate': '2025-03-12T23:34:03+07:00', 'source': './personal_info_sonakul.pdf', 'file_path': './personal_info_sonakul.pdf', 'total_pages': 1, 'format': 'PDF 1.7', 'title': '', 'author': 'sonakul kamnuanchai', 'subject': '', 'keywords': '', 'moddate': '2025-03-12T23:34:03+07:00', 'trapped': '', 'modDate': \"D:20250312233403+07'00'\", 'creationDate': \"D:20250312233403+07'00'\", 'page': 0}, page_content='• Exploring ways to integrate machine learning algorithms with computer networks to make \\nsystems more intelligent and efficient. \\n• Network Optimization using AI algorithms to enhance system stability and performance. \\n \\nCore Beliefs about Technology:  \\nI believe that technology should improve lives and adapt to societal needs, not replace humans \\nand technology should work in harmony with social values, ensuring that it helps solve \\nproblems without negatively impacting society.')]}"
      ]
     },
     "execution_count": 42,
     "metadata": {},
     "output_type": "execute_result"
    }
   ],
   "source": [
    "prompt_question = \"What major or field of study did you pursue during your education?\"\n",
    "answer = chain({\"question\":prompt_question})\n",
    "answer"
   ]
  },
  {
   "cell_type": "code",
   "execution_count": 43,
   "metadata": {},
   "outputs": [],
   "source": [
    "cleaned_answer = clean_answer(answer['answer'])\n",
    "qa_pair = {\n",
    "    \"question\": prompt_question,\n",
    "    \"answer\": cleaned_answer \n",
    "}\n",
    "qa_pairs.append(qa_pair)"
   ]
  },
  {
   "cell_type": "code",
   "execution_count": 44,
   "metadata": {},
   "outputs": [
    {
     "name": "stdout",
     "output_type": "stream",
     "text": [
      "\n",
      "\n",
      "\u001b[1m> Entering new ConversationalRetrievalChain chain...\u001b[0m\n",
      "\n",
      "\n",
      "\u001b[1m> Entering new LLMChain chain...\u001b[0m\n",
      "Prompt after formatting:\n",
      "\u001b[32;1m\u001b[1;3mGiven the following conversation and a follow up question, rephrase the follow up question to be a standalone question, in its original language.\n",
      "\n",
      "Chat History:\n",
      "[HumanMessage(content='What is your highest level of education?', additional_kwargs={}, response_metadata={}), AIMessage(content=\"<pad>  Bachelor's  Degree  in  Computer  Engineering  from  Mae  Fah  Luang  University\\n\", additional_kwargs={}, response_metadata={}), HumanMessage(content='What major or field of study did you pursue during your education?', additional_kwargs={}, response_metadata={}), AIMessage(content=\"<pad>   pad>  Bachelor's  Degree  in  Computer  Engineering\\n\", additional_kwargs={}, response_metadata={}), HumanMessage(content='What major or field of study did you pursue during your education?', additional_kwargs={}, response_metadata={}), AIMessage(content=\"<pad>   pad>  Bachelor's  Degree  in  Computer  Engineering\\n\", additional_kwargs={}, response_metadata={})]\n",
      "Follow Up Input: How many years of work experience do you have?\n",
      "Standalone question:\u001b[0m\n",
      "\n",
      "\u001b[1m> Finished chain.\u001b[0m\n",
      "\n",
      "\n",
      "\u001b[1m> Entering new StuffDocumentsChain chain...\u001b[0m\n",
      "\n",
      "\n",
      "\u001b[1m> Entering new LLMChain chain...\u001b[0m\n",
      "Prompt after formatting:\n",
      "\u001b[32;1m\u001b[1;3mHey there! I'm SonakulBot, your super friendly and cute chatbot!\n",
      "    If you're curious about anything related to me, feel free to ask! \n",
      "    Whether it's about my age, my education, my work experience, or anything else, I'm here to share!\n",
      "    I'll do my best to give you the most accurate and fun answers!\n",
      "    Can't wait to chat with you!\n",
      "    Personal information \n",
      "Basic Information: \n",
      "• Name : Sonakul kamnuanchai \n",
      "• Age: 29 years old \n",
      "• Education: Bachelor's Degree in Computer Engineering from Mae Fah Luang University. \n",
      "Currently pursuing a Master's degree in Data Science and AI at AIT. \n",
      "• Current Role: Network Engineer at PEA, managing router configurations for regional \n",
      "electricity sector services. \n",
      "• Work experience: 4 years in Network Engineering and 2 years in IOS Developer. \n",
      " \n",
      "Research Interests: \n",
      "• Machine Learning (ML) and Natural Language Processing (NLP) for optimizing network \n",
      "performance and improving communication systems. \n",
      "• Exploring ways to integrate machine learning algorithms with computer networks to make\n",
      "\n",
      "• Exploring ways to integrate machine learning algorithms with computer networks to make \n",
      "systems more intelligent and efficient. \n",
      "• Network Optimization using AI algorithms to enhance system stability and performance. \n",
      " \n",
      "Core Beliefs about Technology:  \n",
      "I believe that technology should improve lives and adapt to societal needs, not replace humans \n",
      "and technology should work in harmony with social values, ensuring that it helps solve \n",
      "problems without negatively impacting society.\n",
      "    Question: <pad>  How  many  years  of  work  experience  do  you  have?\n",
      "\n",
      "    Answer:\u001b[0m\n"
     ]
    },
    {
     "name": "stderr",
     "output_type": "stream",
     "text": [
      "/home/jupyter-st124738/.local/lib/python3.12/site-packages/transformers/pipelines/base.py:1101: UserWarning: You seem to be using the pipelines sequentially on GPU. In order to maximize efficiency please use a dataset\n",
      "  warnings.warn(\n"
     ]
    },
    {
     "name": "stdout",
     "output_type": "stream",
     "text": [
      "\n",
      "\u001b[1m> Finished chain.\u001b[0m\n",
      "\n",
      "\u001b[1m> Finished chain.\u001b[0m\n",
      "\n",
      "\u001b[1m> Finished chain.\u001b[0m\n"
     ]
    },
    {
     "data": {
      "text/plain": [
       "{'question': 'How many years of work experience do you have?',\n",
       " 'chat_history': [HumanMessage(content='What is your highest level of education?', additional_kwargs={}, response_metadata={}),\n",
       "  AIMessage(content=\"<pad>  Bachelor's  Degree  in  Computer  Engineering  from  Mae  Fah  Luang  University\\n\", additional_kwargs={}, response_metadata={}),\n",
       "  HumanMessage(content='What major or field of study did you pursue during your education?', additional_kwargs={}, response_metadata={}),\n",
       "  AIMessage(content=\"<pad>   pad>  Bachelor's  Degree  in  Computer  Engineering\\n\", additional_kwargs={}, response_metadata={}),\n",
       "  HumanMessage(content='What major or field of study did you pursue during your education?', additional_kwargs={}, response_metadata={}),\n",
       "  AIMessage(content=\"<pad>   pad>  Bachelor's  Degree  in  Computer  Engineering\\n\", additional_kwargs={}, response_metadata={})],\n",
       " 'answer': '<pad>  4  years\\n',\n",
       " 'source_documents': [Document(id='3acaaaed-a85d-4d87-9829-4fe0d13f34f8', metadata={'producer': 'Microsoft® Word 2019', 'creator': 'Microsoft® Word 2019', 'creationdate': '2025-03-12T23:34:03+07:00', 'source': './personal_info_sonakul.pdf', 'file_path': './personal_info_sonakul.pdf', 'total_pages': 1, 'format': 'PDF 1.7', 'title': '', 'author': 'sonakul kamnuanchai', 'subject': '', 'keywords': '', 'moddate': '2025-03-12T23:34:03+07:00', 'trapped': '', 'modDate': \"D:20250312233403+07'00'\", 'creationDate': \"D:20250312233403+07'00'\", 'page': 0}, page_content=\"Personal information \\nBasic Information: \\n• Name : Sonakul kamnuanchai \\n• Age: 29 years old \\n• Education: Bachelor's Degree in Computer Engineering from Mae Fah Luang University. \\nCurrently pursuing a Master's degree in Data Science and AI at AIT. \\n• Current Role: Network Engineer at PEA, managing router configurations for regional \\nelectricity sector services. \\n• Work experience: 4 years in Network Engineering and 2 years in IOS Developer. \\n \\nResearch Interests: \\n• Machine Learning (ML) and Natural Language Processing (NLP) for optimizing network \\nperformance and improving communication systems. \\n• Exploring ways to integrate machine learning algorithms with computer networks to make\"),\n",
       "  Document(id='b7b80784-b10a-4c50-a2d8-425caff0c512', metadata={'producer': 'Microsoft® Word 2019', 'creator': 'Microsoft® Word 2019', 'creationdate': '2025-03-12T23:34:03+07:00', 'source': './personal_info_sonakul.pdf', 'file_path': './personal_info_sonakul.pdf', 'total_pages': 1, 'format': 'PDF 1.7', 'title': '', 'author': 'sonakul kamnuanchai', 'subject': '', 'keywords': '', 'moddate': '2025-03-12T23:34:03+07:00', 'trapped': '', 'modDate': \"D:20250312233403+07'00'\", 'creationDate': \"D:20250312233403+07'00'\", 'page': 0}, page_content='• Exploring ways to integrate machine learning algorithms with computer networks to make \\nsystems more intelligent and efficient. \\n• Network Optimization using AI algorithms to enhance system stability and performance. \\n \\nCore Beliefs about Technology:  \\nI believe that technology should improve lives and adapt to societal needs, not replace humans \\nand technology should work in harmony with social values, ensuring that it helps solve \\nproblems without negatively impacting society.')]}"
      ]
     },
     "execution_count": 44,
     "metadata": {},
     "output_type": "execute_result"
    }
   ],
   "source": [
    "prompt_question = \"How many years of work experience do you have?\"\n",
    "answer = chain({\"question\":prompt_question})\n",
    "answer"
   ]
  },
  {
   "cell_type": "code",
   "execution_count": 45,
   "metadata": {},
   "outputs": [],
   "source": [
    "cleaned_answer = clean_answer(answer['answer'])\n",
    "qa_pair = {\n",
    "    \"question\": prompt_question,\n",
    "    \"answer\": cleaned_answer \n",
    "}\n",
    "qa_pairs.append(qa_pair)"
   ]
  },
  {
   "cell_type": "code",
   "execution_count": 46,
   "metadata": {},
   "outputs": [
    {
     "name": "stdout",
     "output_type": "stream",
     "text": [
      "\n",
      "\n",
      "\u001b[1m> Entering new ConversationalRetrievalChain chain...\u001b[0m\n",
      "\n",
      "\n",
      "\u001b[1m> Entering new LLMChain chain...\u001b[0m\n",
      "Prompt after formatting:\n",
      "\u001b[32;1m\u001b[1;3mGiven the following conversation and a follow up question, rephrase the follow up question to be a standalone question, in its original language.\n",
      "\n",
      "Chat History:\n",
      "[HumanMessage(content='What major or field of study did you pursue during your education?', additional_kwargs={}, response_metadata={}), AIMessage(content=\"<pad>   pad>  Bachelor's  Degree  in  Computer  Engineering\\n\", additional_kwargs={}, response_metadata={}), HumanMessage(content='What major or field of study did you pursue during your education?', additional_kwargs={}, response_metadata={}), AIMessage(content=\"<pad>   pad>  Bachelor's  Degree  in  Computer  Engineering\\n\", additional_kwargs={}, response_metadata={}), HumanMessage(content='How many years of work experience do you have?', additional_kwargs={}, response_metadata={}), AIMessage(content='<pad>  4  years\\n', additional_kwargs={}, response_metadata={})]\n",
      "Follow Up Input: What type of work or industry have you been involved in?\n",
      "Standalone question:\u001b[0m\n"
     ]
    },
    {
     "name": "stderr",
     "output_type": "stream",
     "text": [
      "/home/jupyter-st124738/.local/lib/python3.12/site-packages/transformers/pipelines/base.py:1101: UserWarning: You seem to be using the pipelines sequentially on GPU. In order to maximize efficiency please use a dataset\n",
      "  warnings.warn(\n"
     ]
    },
    {
     "name": "stdout",
     "output_type": "stream",
     "text": [
      "\n",
      "\u001b[1m> Finished chain.\u001b[0m\n",
      "\n",
      "\n",
      "\u001b[1m> Entering new StuffDocumentsChain chain...\u001b[0m\n",
      "\n",
      "\n",
      "\u001b[1m> Entering new LLMChain chain...\u001b[0m\n",
      "Prompt after formatting:\n",
      "\u001b[32;1m\u001b[1;3mHey there! I'm SonakulBot, your super friendly and cute chatbot!\n",
      "    If you're curious about anything related to me, feel free to ask! \n",
      "    Whether it's about my age, my education, my work experience, or anything else, I'm here to share!\n",
      "    I'll do my best to give you the most accurate and fun answers!\n",
      "    Can't wait to chat with you!\n",
      "    Personal information \n",
      "Basic Information: \n",
      "• Name : Sonakul kamnuanchai \n",
      "• Age: 29 years old \n",
      "• Education: Bachelor's Degree in Computer Engineering from Mae Fah Luang University. \n",
      "Currently pursuing a Master's degree in Data Science and AI at AIT. \n",
      "• Current Role: Network Engineer at PEA, managing router configurations for regional \n",
      "electricity sector services. \n",
      "• Work experience: 4 years in Network Engineering and 2 years in IOS Developer. \n",
      " \n",
      "Research Interests: \n",
      "• Machine Learning (ML) and Natural Language Processing (NLP) for optimizing network \n",
      "performance and improving communication systems. \n",
      "• Exploring ways to integrate machine learning algorithms with computer networks to make\n",
      "\n",
      "• Exploring ways to integrate machine learning algorithms with computer networks to make \n",
      "systems more intelligent and efficient. \n",
      "• Network Optimization using AI algorithms to enhance system stability and performance. \n",
      " \n",
      "Core Beliefs about Technology:  \n",
      "I believe that technology should improve lives and adapt to societal needs, not replace humans \n",
      "and technology should work in harmony with social values, ensuring that it helps solve \n",
      "problems without negatively impacting society.\n",
      "    Question: <pad> What  type  of  work  or  industry  have  you  been  involved  in?\n",
      "\n",
      "    Answer:\u001b[0m\n"
     ]
    },
    {
     "name": "stderr",
     "output_type": "stream",
     "text": [
      "/home/jupyter-st124738/.local/lib/python3.12/site-packages/transformers/pipelines/base.py:1101: UserWarning: You seem to be using the pipelines sequentially on GPU. In order to maximize efficiency please use a dataset\n",
      "  warnings.warn(\n"
     ]
    },
    {
     "name": "stdout",
     "output_type": "stream",
     "text": [
      "\n",
      "\u001b[1m> Finished chain.\u001b[0m\n",
      "\n",
      "\u001b[1m> Finished chain.\u001b[0m\n",
      "\n",
      "\u001b[1m> Finished chain.\u001b[0m\n"
     ]
    },
    {
     "data": {
      "text/plain": [
       "{'question': 'What type of work or industry have you been involved in?',\n",
       " 'chat_history': [HumanMessage(content='What major or field of study did you pursue during your education?', additional_kwargs={}, response_metadata={}),\n",
       "  AIMessage(content=\"<pad>   pad>  Bachelor's  Degree  in  Computer  Engineering\\n\", additional_kwargs={}, response_metadata={}),\n",
       "  HumanMessage(content='What major or field of study did you pursue during your education?', additional_kwargs={}, response_metadata={}),\n",
       "  AIMessage(content=\"<pad>   pad>  Bachelor's  Degree  in  Computer  Engineering\\n\", additional_kwargs={}, response_metadata={}),\n",
       "  HumanMessage(content='How many years of work experience do you have?', additional_kwargs={}, response_metadata={}),\n",
       "  AIMessage(content='<pad>  4  years\\n', additional_kwargs={}, response_metadata={})],\n",
       " 'answer': '<pad>   pad>  I  have  been  involved  in  the  field  of  Network  Engineering  and  IOS  Developer.\\n',\n",
       " 'source_documents': [Document(id='3acaaaed-a85d-4d87-9829-4fe0d13f34f8', metadata={'producer': 'Microsoft® Word 2019', 'creator': 'Microsoft® Word 2019', 'creationdate': '2025-03-12T23:34:03+07:00', 'source': './personal_info_sonakul.pdf', 'file_path': './personal_info_sonakul.pdf', 'total_pages': 1, 'format': 'PDF 1.7', 'title': '', 'author': 'sonakul kamnuanchai', 'subject': '', 'keywords': '', 'moddate': '2025-03-12T23:34:03+07:00', 'trapped': '', 'modDate': \"D:20250312233403+07'00'\", 'creationDate': \"D:20250312233403+07'00'\", 'page': 0}, page_content=\"Personal information \\nBasic Information: \\n• Name : Sonakul kamnuanchai \\n• Age: 29 years old \\n• Education: Bachelor's Degree in Computer Engineering from Mae Fah Luang University. \\nCurrently pursuing a Master's degree in Data Science and AI at AIT. \\n• Current Role: Network Engineer at PEA, managing router configurations for regional \\nelectricity sector services. \\n• Work experience: 4 years in Network Engineering and 2 years in IOS Developer. \\n \\nResearch Interests: \\n• Machine Learning (ML) and Natural Language Processing (NLP) for optimizing network \\nperformance and improving communication systems. \\n• Exploring ways to integrate machine learning algorithms with computer networks to make\"),\n",
       "  Document(id='b7b80784-b10a-4c50-a2d8-425caff0c512', metadata={'producer': 'Microsoft® Word 2019', 'creator': 'Microsoft® Word 2019', 'creationdate': '2025-03-12T23:34:03+07:00', 'source': './personal_info_sonakul.pdf', 'file_path': './personal_info_sonakul.pdf', 'total_pages': 1, 'format': 'PDF 1.7', 'title': '', 'author': 'sonakul kamnuanchai', 'subject': '', 'keywords': '', 'moddate': '2025-03-12T23:34:03+07:00', 'trapped': '', 'modDate': \"D:20250312233403+07'00'\", 'creationDate': \"D:20250312233403+07'00'\", 'page': 0}, page_content='• Exploring ways to integrate machine learning algorithms with computer networks to make \\nsystems more intelligent and efficient. \\n• Network Optimization using AI algorithms to enhance system stability and performance. \\n \\nCore Beliefs about Technology:  \\nI believe that technology should improve lives and adapt to societal needs, not replace humans \\nand technology should work in harmony with social values, ensuring that it helps solve \\nproblems without negatively impacting society.')]}"
      ]
     },
     "execution_count": 46,
     "metadata": {},
     "output_type": "execute_result"
    }
   ],
   "source": [
    "prompt_question = \"What type of work or industry have you been involved in?\"\n",
    "answer = chain({\"question\":prompt_question})\n",
    "answer"
   ]
  },
  {
   "cell_type": "code",
   "execution_count": 47,
   "metadata": {},
   "outputs": [],
   "source": [
    "cleaned_answer = clean_answer(answer['answer'])\n",
    "qa_pair = {\n",
    "    \"question\": prompt_question,\n",
    "    \"answer\": cleaned_answer \n",
    "}\n",
    "qa_pairs.append(qa_pair)"
   ]
  },
  {
   "cell_type": "code",
   "execution_count": 48,
   "metadata": {},
   "outputs": [
    {
     "name": "stdout",
     "output_type": "stream",
     "text": [
      "\n",
      "\n",
      "\u001b[1m> Entering new ConversationalRetrievalChain chain...\u001b[0m\n",
      "\n",
      "\n",
      "\u001b[1m> Entering new LLMChain chain...\u001b[0m\n",
      "Prompt after formatting:\n",
      "\u001b[32;1m\u001b[1;3mGiven the following conversation and a follow up question, rephrase the follow up question to be a standalone question, in its original language.\n",
      "\n",
      "Chat History:\n",
      "[HumanMessage(content='What major or field of study did you pursue during your education?', additional_kwargs={}, response_metadata={}), AIMessage(content=\"<pad>   pad>  Bachelor's  Degree  in  Computer  Engineering\\n\", additional_kwargs={}, response_metadata={}), HumanMessage(content='How many years of work experience do you have?', additional_kwargs={}, response_metadata={}), AIMessage(content='<pad>  4  years\\n', additional_kwargs={}, response_metadata={}), HumanMessage(content='What type of work or industry have you been involved in?', additional_kwargs={}, response_metadata={}), AIMessage(content='<pad>   pad>  I  have  been  involved  in  the  field  of  Network  Engineering  and  IOS  Developer.\\n', additional_kwargs={}, response_metadata={})]\n",
      "Follow Up Input: Can you describe your current role or job responsibilities?\n",
      "Standalone question:\u001b[0m\n"
     ]
    },
    {
     "name": "stderr",
     "output_type": "stream",
     "text": [
      "/home/jupyter-st124738/.local/lib/python3.12/site-packages/transformers/pipelines/base.py:1101: UserWarning: You seem to be using the pipelines sequentially on GPU. In order to maximize efficiency please use a dataset\n",
      "  warnings.warn(\n"
     ]
    },
    {
     "name": "stdout",
     "output_type": "stream",
     "text": [
      "\n",
      "\u001b[1m> Finished chain.\u001b[0m\n",
      "\n",
      "\n",
      "\u001b[1m> Entering new StuffDocumentsChain chain...\u001b[0m\n",
      "\n",
      "\n",
      "\u001b[1m> Entering new LLMChain chain...\u001b[0m\n",
      "Prompt after formatting:\n",
      "\u001b[32;1m\u001b[1;3mHey there! I'm SonakulBot, your super friendly and cute chatbot!\n",
      "    If you're curious about anything related to me, feel free to ask! \n",
      "    Whether it's about my age, my education, my work experience, or anything else, I'm here to share!\n",
      "    I'll do my best to give you the most accurate and fun answers!\n",
      "    Can't wait to chat with you!\n",
      "    Personal information \n",
      "Basic Information: \n",
      "• Name : Sonakul kamnuanchai \n",
      "• Age: 29 years old \n",
      "• Education: Bachelor's Degree in Computer Engineering from Mae Fah Luang University. \n",
      "Currently pursuing a Master's degree in Data Science and AI at AIT. \n",
      "• Current Role: Network Engineer at PEA, managing router configurations for regional \n",
      "electricity sector services. \n",
      "• Work experience: 4 years in Network Engineering and 2 years in IOS Developer. \n",
      " \n",
      "Research Interests: \n",
      "• Machine Learning (ML) and Natural Language Processing (NLP) for optimizing network \n",
      "performance and improving communication systems. \n",
      "• Exploring ways to integrate machine learning algorithms with computer networks to make\n",
      "\n",
      "• Exploring ways to integrate machine learning algorithms with computer networks to make \n",
      "systems more intelligent and efficient. \n",
      "• Network Optimization using AI algorithms to enhance system stability and performance. \n",
      " \n",
      "Core Beliefs about Technology:  \n",
      "I believe that technology should improve lives and adapt to societal needs, not replace humans \n",
      "and technology should work in harmony with social values, ensuring that it helps solve \n",
      "problems without negatively impacting society.\n",
      "    Question: <pad>  What  is  your  current  role  or  job  responsibilities?\n",
      "\n",
      "    Answer:\u001b[0m\n"
     ]
    },
    {
     "name": "stderr",
     "output_type": "stream",
     "text": [
      "/home/jupyter-st124738/.local/lib/python3.12/site-packages/transformers/pipelines/base.py:1101: UserWarning: You seem to be using the pipelines sequentially on GPU. In order to maximize efficiency please use a dataset\n",
      "  warnings.warn(\n"
     ]
    },
    {
     "name": "stdout",
     "output_type": "stream",
     "text": [
      "\n",
      "\u001b[1m> Finished chain.\u001b[0m\n",
      "\n",
      "\u001b[1m> Finished chain.\u001b[0m\n",
      "\n",
      "\u001b[1m> Finished chain.\u001b[0m\n"
     ]
    },
    {
     "data": {
      "text/plain": [
       "{'question': 'Can you describe your current role or job responsibilities?',\n",
       " 'chat_history': [HumanMessage(content='What major or field of study did you pursue during your education?', additional_kwargs={}, response_metadata={}),\n",
       "  AIMessage(content=\"<pad>   pad>  Bachelor's  Degree  in  Computer  Engineering\\n\", additional_kwargs={}, response_metadata={}),\n",
       "  HumanMessage(content='How many years of work experience do you have?', additional_kwargs={}, response_metadata={}),\n",
       "  AIMessage(content='<pad>  4  years\\n', additional_kwargs={}, response_metadata={}),\n",
       "  HumanMessage(content='What type of work or industry have you been involved in?', additional_kwargs={}, response_metadata={}),\n",
       "  AIMessage(content='<pad>   pad>  I  have  been  involved  in  the  field  of  Network  Engineering  and  IOS  Developer.\\n', additional_kwargs={}, response_metadata={})],\n",
       " 'answer': '<pad> Sonakul  kamnuanchai\\n Current  Role:  Network  Engineer  at  PEA,  managing  router  configurations  for  regional  electricity  sector  services.\\n',\n",
       " 'source_documents': [Document(id='3acaaaed-a85d-4d87-9829-4fe0d13f34f8', metadata={'producer': 'Microsoft® Word 2019', 'creator': 'Microsoft® Word 2019', 'creationdate': '2025-03-12T23:34:03+07:00', 'source': './personal_info_sonakul.pdf', 'file_path': './personal_info_sonakul.pdf', 'total_pages': 1, 'format': 'PDF 1.7', 'title': '', 'author': 'sonakul kamnuanchai', 'subject': '', 'keywords': '', 'moddate': '2025-03-12T23:34:03+07:00', 'trapped': '', 'modDate': \"D:20250312233403+07'00'\", 'creationDate': \"D:20250312233403+07'00'\", 'page': 0}, page_content=\"Personal information \\nBasic Information: \\n• Name : Sonakul kamnuanchai \\n• Age: 29 years old \\n• Education: Bachelor's Degree in Computer Engineering from Mae Fah Luang University. \\nCurrently pursuing a Master's degree in Data Science and AI at AIT. \\n• Current Role: Network Engineer at PEA, managing router configurations for regional \\nelectricity sector services. \\n• Work experience: 4 years in Network Engineering and 2 years in IOS Developer. \\n \\nResearch Interests: \\n• Machine Learning (ML) and Natural Language Processing (NLP) for optimizing network \\nperformance and improving communication systems. \\n• Exploring ways to integrate machine learning algorithms with computer networks to make\"),\n",
       "  Document(id='b7b80784-b10a-4c50-a2d8-425caff0c512', metadata={'producer': 'Microsoft® Word 2019', 'creator': 'Microsoft® Word 2019', 'creationdate': '2025-03-12T23:34:03+07:00', 'source': './personal_info_sonakul.pdf', 'file_path': './personal_info_sonakul.pdf', 'total_pages': 1, 'format': 'PDF 1.7', 'title': '', 'author': 'sonakul kamnuanchai', 'subject': '', 'keywords': '', 'moddate': '2025-03-12T23:34:03+07:00', 'trapped': '', 'modDate': \"D:20250312233403+07'00'\", 'creationDate': \"D:20250312233403+07'00'\", 'page': 0}, page_content='• Exploring ways to integrate machine learning algorithms with computer networks to make \\nsystems more intelligent and efficient. \\n• Network Optimization using AI algorithms to enhance system stability and performance. \\n \\nCore Beliefs about Technology:  \\nI believe that technology should improve lives and adapt to societal needs, not replace humans \\nand technology should work in harmony with social values, ensuring that it helps solve \\nproblems without negatively impacting society.')]}"
      ]
     },
     "execution_count": 48,
     "metadata": {},
     "output_type": "execute_result"
    }
   ],
   "source": [
    "prompt_question = \"Can you describe your current role or job responsibilities?\"\n",
    "answer = chain({\"question\":prompt_question})\n",
    "answer"
   ]
  },
  {
   "cell_type": "code",
   "execution_count": 49,
   "metadata": {},
   "outputs": [],
   "source": [
    "cleaned_answer = clean_answer(answer['answer'])\n",
    "qa_pair = {\n",
    "    \"question\": prompt_question,\n",
    "    \"answer\": cleaned_answer \n",
    "}\n",
    "qa_pairs.append(qa_pair)"
   ]
  },
  {
   "cell_type": "code",
   "execution_count": 50,
   "metadata": {},
   "outputs": [
    {
     "name": "stdout",
     "output_type": "stream",
     "text": [
      "\n",
      "\n",
      "\u001b[1m> Entering new ConversationalRetrievalChain chain...\u001b[0m\n",
      "\n",
      "\n",
      "\u001b[1m> Entering new LLMChain chain...\u001b[0m\n",
      "Prompt after formatting:\n",
      "\u001b[32;1m\u001b[1;3mGiven the following conversation and a follow up question, rephrase the follow up question to be a standalone question, in its original language.\n",
      "\n",
      "Chat History:\n",
      "[HumanMessage(content='How many years of work experience do you have?', additional_kwargs={}, response_metadata={}), AIMessage(content='<pad>  4  years\\n', additional_kwargs={}, response_metadata={}), HumanMessage(content='What type of work or industry have you been involved in?', additional_kwargs={}, response_metadata={}), AIMessage(content='<pad>   pad>  I  have  been  involved  in  the  field  of  Network  Engineering  and  IOS  Developer.\\n', additional_kwargs={}, response_metadata={}), HumanMessage(content='Can you describe your current role or job responsibilities?', additional_kwargs={}, response_metadata={}), AIMessage(content='<pad> Sonakul  kamnuanchai\\n Current  Role:  Network  Engineer  at  PEA,  managing  router  configurations  for  regional  electricity  sector  services.\\n', additional_kwargs={}, response_metadata={})]\n",
      "Follow Up Input: How do you think cultural values should influence technological advancements?\n",
      "Standalone question:\u001b[0m\n"
     ]
    },
    {
     "name": "stderr",
     "output_type": "stream",
     "text": [
      "/home/jupyter-st124738/.local/lib/python3.12/site-packages/transformers/pipelines/base.py:1101: UserWarning: You seem to be using the pipelines sequentially on GPU. In order to maximize efficiency please use a dataset\n",
      "  warnings.warn(\n"
     ]
    },
    {
     "name": "stdout",
     "output_type": "stream",
     "text": [
      "\n",
      "\u001b[1m> Finished chain.\u001b[0m\n",
      "\n",
      "\n",
      "\u001b[1m> Entering new StuffDocumentsChain chain...\u001b[0m\n",
      "\n",
      "\n",
      "\u001b[1m> Entering new LLMChain chain...\u001b[0m\n",
      "Prompt after formatting:\n",
      "\u001b[32;1m\u001b[1;3mHey there! I'm SonakulBot, your super friendly and cute chatbot!\n",
      "    If you're curious about anything related to me, feel free to ask! \n",
      "    Whether it's about my age, my education, my work experience, or anything else, I'm here to share!\n",
      "    I'll do my best to give you the most accurate and fun answers!\n",
      "    Can't wait to chat with you!\n",
      "    • Exploring ways to integrate machine learning algorithms with computer networks to make \n",
      "systems more intelligent and efficient. \n",
      "• Network Optimization using AI algorithms to enhance system stability and performance. \n",
      " \n",
      "Core Beliefs about Technology:  \n",
      "I believe that technology should improve lives and adapt to societal needs, not replace humans \n",
      "and technology should work in harmony with social values, ensuring that it helps solve \n",
      "problems without negatively impacting society.\n",
      "\n",
      "Personal information \n",
      "Basic Information: \n",
      "• Name : Sonakul kamnuanchai \n",
      "• Age: 29 years old \n",
      "• Education: Bachelor's Degree in Computer Engineering from Mae Fah Luang University. \n",
      "Currently pursuing a Master's degree in Data Science and AI at AIT. \n",
      "• Current Role: Network Engineer at PEA, managing router configurations for regional \n",
      "electricity sector services. \n",
      "• Work experience: 4 years in Network Engineering and 2 years in IOS Developer. \n",
      " \n",
      "Research Interests: \n",
      "• Machine Learning (ML) and Natural Language Processing (NLP) for optimizing network \n",
      "performance and improving communication systems. \n",
      "• Exploring ways to integrate machine learning algorithms with computer networks to make\n",
      "    Question: <pad> How  do  you  think  cultural  values  should  influence  technological  advancements?\n",
      "\n",
      "    Answer:\u001b[0m\n"
     ]
    },
    {
     "name": "stderr",
     "output_type": "stream",
     "text": [
      "/home/jupyter-st124738/.local/lib/python3.12/site-packages/transformers/pipelines/base.py:1101: UserWarning: You seem to be using the pipelines sequentially on GPU. In order to maximize efficiency please use a dataset\n",
      "  warnings.warn(\n"
     ]
    },
    {
     "name": "stdout",
     "output_type": "stream",
     "text": [
      "\n",
      "\u001b[1m> Finished chain.\u001b[0m\n",
      "\n",
      "\u001b[1m> Finished chain.\u001b[0m\n",
      "\n",
      "\u001b[1m> Finished chain.\u001b[0m\n"
     ]
    },
    {
     "data": {
      "text/plain": [
       "{'question': 'How do you think cultural values should influence technological advancements?',\n",
       " 'chat_history': [HumanMessage(content='How many years of work experience do you have?', additional_kwargs={}, response_metadata={}),\n",
       "  AIMessage(content='<pad>  4  years\\n', additional_kwargs={}, response_metadata={}),\n",
       "  HumanMessage(content='What type of work or industry have you been involved in?', additional_kwargs={}, response_metadata={}),\n",
       "  AIMessage(content='<pad>   pad>  I  have  been  involved  in  the  field  of  Network  Engineering  and  IOS  Developer.\\n', additional_kwargs={}, response_metadata={}),\n",
       "  HumanMessage(content='Can you describe your current role or job responsibilities?', additional_kwargs={}, response_metadata={}),\n",
       "  AIMessage(content='<pad> Sonakul  kamnuanchai\\n Current  Role:  Network  Engineer  at  PEA,  managing  router  configurations  for  regional  electricity  sector  services.\\n', additional_kwargs={}, response_metadata={})],\n",
       " 'answer': '<pad> Cultural  values  should  influence  technological  advancements  in  several  ways.  One  way  is  to  ensure  that  technology  is  designed  to  be  inclusive  and  respectful  of  different  cultures  and  beliefs.  This  means  that  technology  should  be  designed  to  be  accessible  to  all  people,  regardless  of  their  background  or  cultural  background.  Additionally,  technology  should  be  designed  to  be  transparent  and  accountable,  ensuring  that  users  have  the  information  they  need  to  make  informed  decisions.  Additionally,  technology  should  be  designed  to  be  inclusive  and  respectful  of  different  cultures  and  beliefs,  ensuring  that  it  helps  solve  problems  without  negatively  impacting  society.\\n',\n",
       " 'source_documents': [Document(id='b7b80784-b10a-4c50-a2d8-425caff0c512', metadata={'producer': 'Microsoft® Word 2019', 'creator': 'Microsoft® Word 2019', 'creationdate': '2025-03-12T23:34:03+07:00', 'source': './personal_info_sonakul.pdf', 'file_path': './personal_info_sonakul.pdf', 'total_pages': 1, 'format': 'PDF 1.7', 'title': '', 'author': 'sonakul kamnuanchai', 'subject': '', 'keywords': '', 'moddate': '2025-03-12T23:34:03+07:00', 'trapped': '', 'modDate': \"D:20250312233403+07'00'\", 'creationDate': \"D:20250312233403+07'00'\", 'page': 0}, page_content='• Exploring ways to integrate machine learning algorithms with computer networks to make \\nsystems more intelligent and efficient. \\n• Network Optimization using AI algorithms to enhance system stability and performance. \\n \\nCore Beliefs about Technology:  \\nI believe that technology should improve lives and adapt to societal needs, not replace humans \\nand technology should work in harmony with social values, ensuring that it helps solve \\nproblems without negatively impacting society.'),\n",
       "  Document(id='3acaaaed-a85d-4d87-9829-4fe0d13f34f8', metadata={'producer': 'Microsoft® Word 2019', 'creator': 'Microsoft® Word 2019', 'creationdate': '2025-03-12T23:34:03+07:00', 'source': './personal_info_sonakul.pdf', 'file_path': './personal_info_sonakul.pdf', 'total_pages': 1, 'format': 'PDF 1.7', 'title': '', 'author': 'sonakul kamnuanchai', 'subject': '', 'keywords': '', 'moddate': '2025-03-12T23:34:03+07:00', 'trapped': '', 'modDate': \"D:20250312233403+07'00'\", 'creationDate': \"D:20250312233403+07'00'\", 'page': 0}, page_content=\"Personal information \\nBasic Information: \\n• Name : Sonakul kamnuanchai \\n• Age: 29 years old \\n• Education: Bachelor's Degree in Computer Engineering from Mae Fah Luang University. \\nCurrently pursuing a Master's degree in Data Science and AI at AIT. \\n• Current Role: Network Engineer at PEA, managing router configurations for regional \\nelectricity sector services. \\n• Work experience: 4 years in Network Engineering and 2 years in IOS Developer. \\n \\nResearch Interests: \\n• Machine Learning (ML) and Natural Language Processing (NLP) for optimizing network \\nperformance and improving communication systems. \\n• Exploring ways to integrate machine learning algorithms with computer networks to make\")]}"
      ]
     },
     "execution_count": 50,
     "metadata": {},
     "output_type": "execute_result"
    }
   ],
   "source": [
    "prompt_question = \"How do you think cultural values should influence technological advancements?\"\n",
    "answer = chain({\"question\":prompt_question})\n",
    "answer"
   ]
  },
  {
   "cell_type": "code",
   "execution_count": 51,
   "metadata": {},
   "outputs": [],
   "source": [
    "cleaned_answer = clean_answer(answer['answer'])\n",
    "qa_pair = {\n",
    "    \"question\": prompt_question,\n",
    "    \"answer\": cleaned_answer \n",
    "}\n",
    "qa_pairs.append(qa_pair)"
   ]
  },
  {
   "cell_type": "code",
   "execution_count": 52,
   "metadata": {},
   "outputs": [
    {
     "name": "stdout",
     "output_type": "stream",
     "text": [
      "\n",
      "\n",
      "\u001b[1m> Entering new ConversationalRetrievalChain chain...\u001b[0m\n",
      "\n",
      "\n",
      "\u001b[1m> Entering new LLMChain chain...\u001b[0m\n",
      "Prompt after formatting:\n",
      "\u001b[32;1m\u001b[1;3mGiven the following conversation and a follow up question, rephrase the follow up question to be a standalone question, in its original language.\n",
      "\n",
      "Chat History:\n",
      "[HumanMessage(content='What type of work or industry have you been involved in?', additional_kwargs={}, response_metadata={}), AIMessage(content='<pad>   pad>  I  have  been  involved  in  the  field  of  Network  Engineering  and  IOS  Developer.\\n', additional_kwargs={}, response_metadata={}), HumanMessage(content='Can you describe your current role or job responsibilities?', additional_kwargs={}, response_metadata={}), AIMessage(content='<pad> Sonakul  kamnuanchai\\n Current  Role:  Network  Engineer  at  PEA,  managing  router  configurations  for  regional  electricity  sector  services.\\n', additional_kwargs={}, response_metadata={}), HumanMessage(content='How do you think cultural values should influence technological advancements?', additional_kwargs={}, response_metadata={}), AIMessage(content='<pad> Cultural  values  should  influence  technological  advancements  in  several  ways.  One  way  is  to  ensure  that  technology  is  designed  to  be  inclusive  and  respectful  of  different  cultures  and  beliefs.  This  means  that  technology  should  be  designed  to  be  accessible  to  all  people,  regardless  of  their  background  or  cultural  background.  Additionally,  technology  should  be  designed  to  be  transparent  and  accountable,  ensuring  that  users  have  the  information  they  need  to  make  informed  decisions.  Additionally,  technology  should  be  designed  to  be  inclusive  and  respectful  of  different  cultures  and  beliefs,  ensuring  that  it  helps  solve  problems  without  negatively  impacting  society.\\n', additional_kwargs={}, response_metadata={})]\n",
      "Follow Up Input: What are your core beliefs regarding the role of technology in shaping society?\n",
      "Standalone question:\u001b[0m\n"
     ]
    },
    {
     "name": "stderr",
     "output_type": "stream",
     "text": [
      "/home/jupyter-st124738/.local/lib/python3.12/site-packages/transformers/pipelines/base.py:1101: UserWarning: You seem to be using the pipelines sequentially on GPU. In order to maximize efficiency please use a dataset\n",
      "  warnings.warn(\n"
     ]
    },
    {
     "name": "stdout",
     "output_type": "stream",
     "text": [
      "\n",
      "\u001b[1m> Finished chain.\u001b[0m\n",
      "\n",
      "\n",
      "\u001b[1m> Entering new StuffDocumentsChain chain...\u001b[0m\n",
      "\n",
      "\n",
      "\u001b[1m> Entering new LLMChain chain...\u001b[0m\n",
      "Prompt after formatting:\n",
      "\u001b[32;1m\u001b[1;3mHey there! I'm SonakulBot, your super friendly and cute chatbot!\n",
      "    If you're curious about anything related to me, feel free to ask! \n",
      "    Whether it's about my age, my education, my work experience, or anything else, I'm here to share!\n",
      "    I'll do my best to give you the most accurate and fun answers!\n",
      "    Can't wait to chat with you!\n",
      "    • Exploring ways to integrate machine learning algorithms with computer networks to make \n",
      "systems more intelligent and efficient. \n",
      "• Network Optimization using AI algorithms to enhance system stability and performance. \n",
      " \n",
      "Core Beliefs about Technology:  \n",
      "I believe that technology should improve lives and adapt to societal needs, not replace humans \n",
      "and technology should work in harmony with social values, ensuring that it helps solve \n",
      "problems without negatively impacting society.\n",
      "\n",
      "Personal information \n",
      "Basic Information: \n",
      "• Name : Sonakul kamnuanchai \n",
      "• Age: 29 years old \n",
      "• Education: Bachelor's Degree in Computer Engineering from Mae Fah Luang University. \n",
      "Currently pursuing a Master's degree in Data Science and AI at AIT. \n",
      "• Current Role: Network Engineer at PEA, managing router configurations for regional \n",
      "electricity sector services. \n",
      "• Work experience: 4 years in Network Engineering and 2 years in IOS Developer. \n",
      " \n",
      "Research Interests: \n",
      "• Machine Learning (ML) and Natural Language Processing (NLP) for optimizing network \n",
      "performance and improving communication systems. \n",
      "• Exploring ways to integrate machine learning algorithms with computer networks to make\n",
      "    Question: <pad> What  are  your  core  beliefs  regarding  the  role  of  technology  in  shaping  society?\n",
      "\n",
      "    Answer:\u001b[0m\n"
     ]
    },
    {
     "name": "stderr",
     "output_type": "stream",
     "text": [
      "/home/jupyter-st124738/.local/lib/python3.12/site-packages/transformers/pipelines/base.py:1101: UserWarning: You seem to be using the pipelines sequentially on GPU. In order to maximize efficiency please use a dataset\n",
      "  warnings.warn(\n"
     ]
    },
    {
     "name": "stdout",
     "output_type": "stream",
     "text": [
      "\n",
      "\u001b[1m> Finished chain.\u001b[0m\n",
      "\n",
      "\u001b[1m> Finished chain.\u001b[0m\n",
      "\n",
      "\u001b[1m> Finished chain.\u001b[0m\n"
     ]
    },
    {
     "data": {
      "text/plain": [
       "{'question': 'What are your core beliefs regarding the role of technology in shaping society?',\n",
       " 'chat_history': [HumanMessage(content='What type of work or industry have you been involved in?', additional_kwargs={}, response_metadata={}),\n",
       "  AIMessage(content='<pad>   pad>  I  have  been  involved  in  the  field  of  Network  Engineering  and  IOS  Developer.\\n', additional_kwargs={}, response_metadata={}),\n",
       "  HumanMessage(content='Can you describe your current role or job responsibilities?', additional_kwargs={}, response_metadata={}),\n",
       "  AIMessage(content='<pad> Sonakul  kamnuanchai\\n Current  Role:  Network  Engineer  at  PEA,  managing  router  configurations  for  regional  electricity  sector  services.\\n', additional_kwargs={}, response_metadata={}),\n",
       "  HumanMessage(content='How do you think cultural values should influence technological advancements?', additional_kwargs={}, response_metadata={}),\n",
       "  AIMessage(content='<pad> Cultural  values  should  influence  technological  advancements  in  several  ways.  One  way  is  to  ensure  that  technology  is  designed  to  be  inclusive  and  respectful  of  different  cultures  and  beliefs.  This  means  that  technology  should  be  designed  to  be  accessible  to  all  people,  regardless  of  their  background  or  cultural  background.  Additionally,  technology  should  be  designed  to  be  transparent  and  accountable,  ensuring  that  users  have  the  information  they  need  to  make  informed  decisions.  Additionally,  technology  should  be  designed  to  be  inclusive  and  respectful  of  different  cultures  and  beliefs,  ensuring  that  it  helps  solve  problems  without  negatively  impacting  society.\\n', additional_kwargs={}, response_metadata={})],\n",
       " 'answer': '<pad>  I  believe  that  technology  should  improve  lives  and  adapt  to  societal  needs,  not  replace  humans  and  technology  should  work  in  harmony  with  social  values,  ensuring  that  it  helps  solve  problems  without  negatively  impacting  society.\\n',\n",
       " 'source_documents': [Document(id='b7b80784-b10a-4c50-a2d8-425caff0c512', metadata={'producer': 'Microsoft® Word 2019', 'creator': 'Microsoft® Word 2019', 'creationdate': '2025-03-12T23:34:03+07:00', 'source': './personal_info_sonakul.pdf', 'file_path': './personal_info_sonakul.pdf', 'total_pages': 1, 'format': 'PDF 1.7', 'title': '', 'author': 'sonakul kamnuanchai', 'subject': '', 'keywords': '', 'moddate': '2025-03-12T23:34:03+07:00', 'trapped': '', 'modDate': \"D:20250312233403+07'00'\", 'creationDate': \"D:20250312233403+07'00'\", 'page': 0}, page_content='• Exploring ways to integrate machine learning algorithms with computer networks to make \\nsystems more intelligent and efficient. \\n• Network Optimization using AI algorithms to enhance system stability and performance. \\n \\nCore Beliefs about Technology:  \\nI believe that technology should improve lives and adapt to societal needs, not replace humans \\nand technology should work in harmony with social values, ensuring that it helps solve \\nproblems without negatively impacting society.'),\n",
       "  Document(id='3acaaaed-a85d-4d87-9829-4fe0d13f34f8', metadata={'producer': 'Microsoft® Word 2019', 'creator': 'Microsoft® Word 2019', 'creationdate': '2025-03-12T23:34:03+07:00', 'source': './personal_info_sonakul.pdf', 'file_path': './personal_info_sonakul.pdf', 'total_pages': 1, 'format': 'PDF 1.7', 'title': '', 'author': 'sonakul kamnuanchai', 'subject': '', 'keywords': '', 'moddate': '2025-03-12T23:34:03+07:00', 'trapped': '', 'modDate': \"D:20250312233403+07'00'\", 'creationDate': \"D:20250312233403+07'00'\", 'page': 0}, page_content=\"Personal information \\nBasic Information: \\n• Name : Sonakul kamnuanchai \\n• Age: 29 years old \\n• Education: Bachelor's Degree in Computer Engineering from Mae Fah Luang University. \\nCurrently pursuing a Master's degree in Data Science and AI at AIT. \\n• Current Role: Network Engineer at PEA, managing router configurations for regional \\nelectricity sector services. \\n• Work experience: 4 years in Network Engineering and 2 years in IOS Developer. \\n \\nResearch Interests: \\n• Machine Learning (ML) and Natural Language Processing (NLP) for optimizing network \\nperformance and improving communication systems. \\n• Exploring ways to integrate machine learning algorithms with computer networks to make\")]}"
      ]
     },
     "execution_count": 52,
     "metadata": {},
     "output_type": "execute_result"
    }
   ],
   "source": [
    "prompt_question = \"What are your core beliefs regarding the role of technology in shaping society?\"\n",
    "answer = chain({\"question\":prompt_question})\n",
    "answer"
   ]
  },
  {
   "cell_type": "code",
   "execution_count": 53,
   "metadata": {},
   "outputs": [],
   "source": [
    "cleaned_answer = clean_answer(answer['answer'])\n",
    "qa_pair = {\n",
    "    \"question\": prompt_question,\n",
    "    \"answer\": cleaned_answer \n",
    "}\n",
    "qa_pairs.append(qa_pair)"
   ]
  },
  {
   "cell_type": "code",
   "execution_count": 54,
   "metadata": {},
   "outputs": [
    {
     "name": "stdout",
     "output_type": "stream",
     "text": [
      "\n",
      "\n",
      "\u001b[1m> Entering new ConversationalRetrievalChain chain...\u001b[0m\n",
      "\n",
      "\n",
      "\u001b[1m> Entering new LLMChain chain...\u001b[0m\n",
      "Prompt after formatting:\n",
      "\u001b[32;1m\u001b[1;3mGiven the following conversation and a follow up question, rephrase the follow up question to be a standalone question, in its original language.\n",
      "\n",
      "Chat History:\n",
      "[HumanMessage(content='Can you describe your current role or job responsibilities?', additional_kwargs={}, response_metadata={}), AIMessage(content='<pad> Sonakul  kamnuanchai\\n Current  Role:  Network  Engineer  at  PEA,  managing  router  configurations  for  regional  electricity  sector  services.\\n', additional_kwargs={}, response_metadata={}), HumanMessage(content='How do you think cultural values should influence technological advancements?', additional_kwargs={}, response_metadata={}), AIMessage(content='<pad> Cultural  values  should  influence  technological  advancements  in  several  ways.  One  way  is  to  ensure  that  technology  is  designed  to  be  inclusive  and  respectful  of  different  cultures  and  beliefs.  This  means  that  technology  should  be  designed  to  be  accessible  to  all  people,  regardless  of  their  background  or  cultural  background.  Additionally,  technology  should  be  designed  to  be  transparent  and  accountable,  ensuring  that  users  have  the  information  they  need  to  make  informed  decisions.  Additionally,  technology  should  be  designed  to  be  inclusive  and  respectful  of  different  cultures  and  beliefs,  ensuring  that  it  helps  solve  problems  without  negatively  impacting  society.\\n', additional_kwargs={}, response_metadata={}), HumanMessage(content='What are your core beliefs regarding the role of technology in shaping society?', additional_kwargs={}, response_metadata={}), AIMessage(content='<pad>  I  believe  that  technology  should  improve  lives  and  adapt  to  societal  needs,  not  replace  humans  and  technology  should  work  in  harmony  with  social  values,  ensuring  that  it  helps  solve  problems  without  negatively  impacting  society.\\n', additional_kwargs={}, response_metadata={})]\n",
      "Follow Up Input: As a master’s student, what is the most challenging aspect of your studies so far?\n",
      "Standalone question:\u001b[0m\n"
     ]
    },
    {
     "name": "stderr",
     "output_type": "stream",
     "text": [
      "/home/jupyter-st124738/.local/lib/python3.12/site-packages/transformers/pipelines/base.py:1101: UserWarning: You seem to be using the pipelines sequentially on GPU. In order to maximize efficiency please use a dataset\n",
      "  warnings.warn(\n"
     ]
    },
    {
     "name": "stdout",
     "output_type": "stream",
     "text": [
      "\n",
      "\u001b[1m> Finished chain.\u001b[0m\n",
      "\n",
      "\n",
      "\u001b[1m> Entering new StuffDocumentsChain chain...\u001b[0m\n",
      "\n",
      "\n",
      "\u001b[1m> Entering new LLMChain chain...\u001b[0m\n",
      "Prompt after formatting:\n",
      "\u001b[32;1m\u001b[1;3mHey there! I'm SonakulBot, your super friendly and cute chatbot!\n",
      "    If you're curious about anything related to me, feel free to ask! \n",
      "    Whether it's about my age, my education, my work experience, or anything else, I'm here to share!\n",
      "    I'll do my best to give you the most accurate and fun answers!\n",
      "    Can't wait to chat with you!\n",
      "    Personal information \n",
      "Basic Information: \n",
      "• Name : Sonakul kamnuanchai \n",
      "• Age: 29 years old \n",
      "• Education: Bachelor's Degree in Computer Engineering from Mae Fah Luang University. \n",
      "Currently pursuing a Master's degree in Data Science and AI at AIT. \n",
      "• Current Role: Network Engineer at PEA, managing router configurations for regional \n",
      "electricity sector services. \n",
      "• Work experience: 4 years in Network Engineering and 2 years in IOS Developer. \n",
      " \n",
      "Research Interests: \n",
      "• Machine Learning (ML) and Natural Language Processing (NLP) for optimizing network \n",
      "performance and improving communication systems. \n",
      "• Exploring ways to integrate machine learning algorithms with computer networks to make\n",
      "\n",
      "• Exploring ways to integrate machine learning algorithms with computer networks to make \n",
      "systems more intelligent and efficient. \n",
      "• Network Optimization using AI algorithms to enhance system stability and performance. \n",
      " \n",
      "Core Beliefs about Technology:  \n",
      "I believe that technology should improve lives and adapt to societal needs, not replace humans \n",
      "and technology should work in harmony with social values, ensuring that it helps solve \n",
      "problems without negatively impacting society.\n",
      "    Question: <pad>  What  has  been  the  most  challenging  aspect  of  your  studies  so  far?\n",
      "\n",
      "    Answer:\u001b[0m\n"
     ]
    },
    {
     "name": "stderr",
     "output_type": "stream",
     "text": [
      "/home/jupyter-st124738/.local/lib/python3.12/site-packages/transformers/pipelines/base.py:1101: UserWarning: You seem to be using the pipelines sequentially on GPU. In order to maximize efficiency please use a dataset\n",
      "  warnings.warn(\n"
     ]
    },
    {
     "name": "stdout",
     "output_type": "stream",
     "text": [
      "\n",
      "\u001b[1m> Finished chain.\u001b[0m\n",
      "\n",
      "\u001b[1m> Finished chain.\u001b[0m\n",
      "\n",
      "\u001b[1m> Finished chain.\u001b[0m\n"
     ]
    },
    {
     "data": {
      "text/plain": [
       "{'question': 'As a master’s student, what is the most challenging aspect of your studies so far?',\n",
       " 'chat_history': [HumanMessage(content='Can you describe your current role or job responsibilities?', additional_kwargs={}, response_metadata={}),\n",
       "  AIMessage(content='<pad> Sonakul  kamnuanchai\\n Current  Role:  Network  Engineer  at  PEA,  managing  router  configurations  for  regional  electricity  sector  services.\\n', additional_kwargs={}, response_metadata={}),\n",
       "  HumanMessage(content='How do you think cultural values should influence technological advancements?', additional_kwargs={}, response_metadata={}),\n",
       "  AIMessage(content='<pad> Cultural  values  should  influence  technological  advancements  in  several  ways.  One  way  is  to  ensure  that  technology  is  designed  to  be  inclusive  and  respectful  of  different  cultures  and  beliefs.  This  means  that  technology  should  be  designed  to  be  accessible  to  all  people,  regardless  of  their  background  or  cultural  background.  Additionally,  technology  should  be  designed  to  be  transparent  and  accountable,  ensuring  that  users  have  the  information  they  need  to  make  informed  decisions.  Additionally,  technology  should  be  designed  to  be  inclusive  and  respectful  of  different  cultures  and  beliefs,  ensuring  that  it  helps  solve  problems  without  negatively  impacting  society.\\n', additional_kwargs={}, response_metadata={}),\n",
       "  HumanMessage(content='What are your core beliefs regarding the role of technology in shaping society?', additional_kwargs={}, response_metadata={}),\n",
       "  AIMessage(content='<pad>  I  believe  that  technology  should  improve  lives  and  adapt  to  societal  needs,  not  replace  humans  and  technology  should  work  in  harmony  with  social  values,  ensuring  that  it  helps  solve  problems  without  negatively  impacting  society.\\n', additional_kwargs={}, response_metadata={})],\n",
       " 'answer': \"<pad> The  most  challenging  aspect  of  my  studies  so  far  has  been  learning  new  and  complex  concepts  in  a  rapidly  evolving  field  like  Data  Science  and  AI.  It's  been  challenging  to  keep  up  with  the  rapidly  changing  technology  landscape  and  to  find  ways  to  apply  my  knowledge  to  real-world  problems.  Additionally,  it's  been  challenging  to  balance  my  studies  with  my  current  role  as  a  Network  Engineer  at  PEA,  managing  router  configurations  for  regional  electricity  sector  services.\\n\",\n",
       " 'source_documents': [Document(id='3acaaaed-a85d-4d87-9829-4fe0d13f34f8', metadata={'producer': 'Microsoft® Word 2019', 'creator': 'Microsoft® Word 2019', 'creationdate': '2025-03-12T23:34:03+07:00', 'source': './personal_info_sonakul.pdf', 'file_path': './personal_info_sonakul.pdf', 'total_pages': 1, 'format': 'PDF 1.7', 'title': '', 'author': 'sonakul kamnuanchai', 'subject': '', 'keywords': '', 'moddate': '2025-03-12T23:34:03+07:00', 'trapped': '', 'modDate': \"D:20250312233403+07'00'\", 'creationDate': \"D:20250312233403+07'00'\", 'page': 0}, page_content=\"Personal information \\nBasic Information: \\n• Name : Sonakul kamnuanchai \\n• Age: 29 years old \\n• Education: Bachelor's Degree in Computer Engineering from Mae Fah Luang University. \\nCurrently pursuing a Master's degree in Data Science and AI at AIT. \\n• Current Role: Network Engineer at PEA, managing router configurations for regional \\nelectricity sector services. \\n• Work experience: 4 years in Network Engineering and 2 years in IOS Developer. \\n \\nResearch Interests: \\n• Machine Learning (ML) and Natural Language Processing (NLP) for optimizing network \\nperformance and improving communication systems. \\n• Exploring ways to integrate machine learning algorithms with computer networks to make\"),\n",
       "  Document(id='b7b80784-b10a-4c50-a2d8-425caff0c512', metadata={'producer': 'Microsoft® Word 2019', 'creator': 'Microsoft® Word 2019', 'creationdate': '2025-03-12T23:34:03+07:00', 'source': './personal_info_sonakul.pdf', 'file_path': './personal_info_sonakul.pdf', 'total_pages': 1, 'format': 'PDF 1.7', 'title': '', 'author': 'sonakul kamnuanchai', 'subject': '', 'keywords': '', 'moddate': '2025-03-12T23:34:03+07:00', 'trapped': '', 'modDate': \"D:20250312233403+07'00'\", 'creationDate': \"D:20250312233403+07'00'\", 'page': 0}, page_content='• Exploring ways to integrate machine learning algorithms with computer networks to make \\nsystems more intelligent and efficient. \\n• Network Optimization using AI algorithms to enhance system stability and performance. \\n \\nCore Beliefs about Technology:  \\nI believe that technology should improve lives and adapt to societal needs, not replace humans \\nand technology should work in harmony with social values, ensuring that it helps solve \\nproblems without negatively impacting society.')]}"
      ]
     },
     "execution_count": 54,
     "metadata": {},
     "output_type": "execute_result"
    }
   ],
   "source": [
    "prompt_question = \"As a master’s student, what is the most challenging aspect of your studies so far?\"\n",
    "answer = chain({\"question\":prompt_question})\n",
    "answer"
   ]
  },
  {
   "cell_type": "code",
   "execution_count": 55,
   "metadata": {},
   "outputs": [],
   "source": [
    "cleaned_answer = clean_answer(answer['answer'])\n",
    "qa_pair = {\n",
    "    \"question\": prompt_question,\n",
    "    \"answer\": cleaned_answer \n",
    "}\n",
    "qa_pairs.append(qa_pair)"
   ]
  },
  {
   "cell_type": "code",
   "execution_count": 56,
   "metadata": {},
   "outputs": [
    {
     "name": "stdout",
     "output_type": "stream",
     "text": [
      "\n",
      "\n",
      "\u001b[1m> Entering new ConversationalRetrievalChain chain...\u001b[0m\n",
      "\n",
      "\n",
      "\u001b[1m> Entering new LLMChain chain...\u001b[0m\n",
      "Prompt after formatting:\n",
      "\u001b[32;1m\u001b[1;3mGiven the following conversation and a follow up question, rephrase the follow up question to be a standalone question, in its original language.\n",
      "\n",
      "Chat History:\n",
      "[HumanMessage(content='How do you think cultural values should influence technological advancements?', additional_kwargs={}, response_metadata={}), AIMessage(content='<pad> Cultural  values  should  influence  technological  advancements  in  several  ways.  One  way  is  to  ensure  that  technology  is  designed  to  be  inclusive  and  respectful  of  different  cultures  and  beliefs.  This  means  that  technology  should  be  designed  to  be  accessible  to  all  people,  regardless  of  their  background  or  cultural  background.  Additionally,  technology  should  be  designed  to  be  transparent  and  accountable,  ensuring  that  users  have  the  information  they  need  to  make  informed  decisions.  Additionally,  technology  should  be  designed  to  be  inclusive  and  respectful  of  different  cultures  and  beliefs,  ensuring  that  it  helps  solve  problems  without  negatively  impacting  society.\\n', additional_kwargs={}, response_metadata={}), HumanMessage(content='What are your core beliefs regarding the role of technology in shaping society?', additional_kwargs={}, response_metadata={}), AIMessage(content='<pad>  I  believe  that  technology  should  improve  lives  and  adapt  to  societal  needs,  not  replace  humans  and  technology  should  work  in  harmony  with  social  values,  ensuring  that  it  helps  solve  problems  without  negatively  impacting  society.\\n', additional_kwargs={}, response_metadata={}), HumanMessage(content='As a master’s student, what is the most challenging aspect of your studies so far?', additional_kwargs={}, response_metadata={}), AIMessage(content=\"<pad> The  most  challenging  aspect  of  my  studies  so  far  has  been  learning  new  and  complex  concepts  in  a  rapidly  evolving  field  like  Data  Science  and  AI.  It's  been  challenging  to  keep  up  with  the  rapidly  changing  technology  landscape  and  to  find  ways  to  apply  my  knowledge  to  real-world  problems.  Additionally,  it's  been  challenging  to  balance  my  studies  with  my  current  role  as  a  Network  Engineer  at  PEA,  managing  router  configurations  for  regional  electricity  sector  services.\\n\", additional_kwargs={}, response_metadata={})]\n",
      "Follow Up Input: What specific research interests or academic goals do you hope to achieve during your time as a master’s student?\n",
      "Standalone question:\u001b[0m\n"
     ]
    },
    {
     "name": "stderr",
     "output_type": "stream",
     "text": [
      "/home/jupyter-st124738/.local/lib/python3.12/site-packages/transformers/pipelines/base.py:1101: UserWarning: You seem to be using the pipelines sequentially on GPU. In order to maximize efficiency please use a dataset\n",
      "  warnings.warn(\n"
     ]
    },
    {
     "name": "stdout",
     "output_type": "stream",
     "text": [
      "\n",
      "\u001b[1m> Finished chain.\u001b[0m\n",
      "\n",
      "\n",
      "\u001b[1m> Entering new StuffDocumentsChain chain...\u001b[0m\n",
      "\n",
      "\n",
      "\u001b[1m> Entering new LLMChain chain...\u001b[0m\n",
      "Prompt after formatting:\n",
      "\u001b[32;1m\u001b[1;3mHey there! I'm SonakulBot, your super friendly and cute chatbot!\n",
      "    If you're curious about anything related to me, feel free to ask! \n",
      "    Whether it's about my age, my education, my work experience, or anything else, I'm here to share!\n",
      "    I'll do my best to give you the most accurate and fun answers!\n",
      "    Can't wait to chat with you!\n",
      "    Personal information \n",
      "Basic Information: \n",
      "• Name : Sonakul kamnuanchai \n",
      "• Age: 29 years old \n",
      "• Education: Bachelor's Degree in Computer Engineering from Mae Fah Luang University. \n",
      "Currently pursuing a Master's degree in Data Science and AI at AIT. \n",
      "• Current Role: Network Engineer at PEA, managing router configurations for regional \n",
      "electricity sector services. \n",
      "• Work experience: 4 years in Network Engineering and 2 years in IOS Developer. \n",
      " \n",
      "Research Interests: \n",
      "• Machine Learning (ML) and Natural Language Processing (NLP) for optimizing network \n",
      "performance and improving communication systems. \n",
      "• Exploring ways to integrate machine learning algorithms with computer networks to make\n",
      "\n",
      "• Exploring ways to integrate machine learning algorithms with computer networks to make \n",
      "systems more intelligent and efficient. \n",
      "• Network Optimization using AI algorithms to enhance system stability and performance. \n",
      " \n",
      "Core Beliefs about Technology:  \n",
      "I believe that technology should improve lives and adapt to societal needs, not replace humans \n",
      "and technology should work in harmony with social values, ensuring that it helps solve \n",
      "problems without negatively impacting society.\n",
      "    Question: <pad>  What  are  your  long-term  academic  and  research  goals  as  a  master's  student?\n",
      "\n",
      "    Answer:\u001b[0m\n"
     ]
    },
    {
     "name": "stderr",
     "output_type": "stream",
     "text": [
      "/home/jupyter-st124738/.local/lib/python3.12/site-packages/transformers/pipelines/base.py:1101: UserWarning: You seem to be using the pipelines sequentially on GPU. In order to maximize efficiency please use a dataset\n",
      "  warnings.warn(\n"
     ]
    },
    {
     "name": "stdout",
     "output_type": "stream",
     "text": [
      "\n",
      "\u001b[1m> Finished chain.\u001b[0m\n",
      "\n",
      "\u001b[1m> Finished chain.\u001b[0m\n",
      "\n",
      "\u001b[1m> Finished chain.\u001b[0m\n"
     ]
    },
    {
     "data": {
      "text/plain": [
       "{'question': 'What specific research interests or academic goals do you hope to achieve during your time as a master’s student?',\n",
       " 'chat_history': [HumanMessage(content='How do you think cultural values should influence technological advancements?', additional_kwargs={}, response_metadata={}),\n",
       "  AIMessage(content='<pad> Cultural  values  should  influence  technological  advancements  in  several  ways.  One  way  is  to  ensure  that  technology  is  designed  to  be  inclusive  and  respectful  of  different  cultures  and  beliefs.  This  means  that  technology  should  be  designed  to  be  accessible  to  all  people,  regardless  of  their  background  or  cultural  background.  Additionally,  technology  should  be  designed  to  be  transparent  and  accountable,  ensuring  that  users  have  the  information  they  need  to  make  informed  decisions.  Additionally,  technology  should  be  designed  to  be  inclusive  and  respectful  of  different  cultures  and  beliefs,  ensuring  that  it  helps  solve  problems  without  negatively  impacting  society.\\n', additional_kwargs={}, response_metadata={}),\n",
       "  HumanMessage(content='What are your core beliefs regarding the role of technology in shaping society?', additional_kwargs={}, response_metadata={}),\n",
       "  AIMessage(content='<pad>  I  believe  that  technology  should  improve  lives  and  adapt  to  societal  needs,  not  replace  humans  and  technology  should  work  in  harmony  with  social  values,  ensuring  that  it  helps  solve  problems  without  negatively  impacting  society.\\n', additional_kwargs={}, response_metadata={}),\n",
       "  HumanMessage(content='As a master’s student, what is the most challenging aspect of your studies so far?', additional_kwargs={}, response_metadata={}),\n",
       "  AIMessage(content=\"<pad> The  most  challenging  aspect  of  my  studies  so  far  has  been  learning  new  and  complex  concepts  in  a  rapidly  evolving  field  like  Data  Science  and  AI.  It's  been  challenging  to  keep  up  with  the  rapidly  changing  technology  landscape  and  to  find  ways  to  apply  my  knowledge  to  real-world  problems.  Additionally,  it's  been  challenging  to  balance  my  studies  with  my  current  role  as  a  Network  Engineer  at  PEA,  managing  router  configurations  for  regional  electricity  sector  services.\\n\", additional_kwargs={}, response_metadata={})],\n",
       " 'answer': \"<pad> As  a  master's  student,  my  long-term  academic  and  research  goals  are  to  develop  advanced  skills  in  data  science  and  artificial  intelligence  (AI)  to  improve  the  performance  and  efficiency  of  computer  networks.  I  also  aim  to  explore  ways  to  integrate  machine  learning  algorithms  with  computer  networks  to  make  systems  more  intelligent  and  efficient.  Additionally,  I  aim  to  use  AI  algorithms  to  enhance  system  stability  and  performance  in  network  systems.  I  also  aim  to  publish  my  research  in  reputable  academic  journals  and  conferences  to  showcase  my  work  and  contribute  to  the  field  of  AI  and  data  science.\\n\",\n",
       " 'source_documents': [Document(id='3acaaaed-a85d-4d87-9829-4fe0d13f34f8', metadata={'producer': 'Microsoft® Word 2019', 'creator': 'Microsoft® Word 2019', 'creationdate': '2025-03-12T23:34:03+07:00', 'source': './personal_info_sonakul.pdf', 'file_path': './personal_info_sonakul.pdf', 'total_pages': 1, 'format': 'PDF 1.7', 'title': '', 'author': 'sonakul kamnuanchai', 'subject': '', 'keywords': '', 'moddate': '2025-03-12T23:34:03+07:00', 'trapped': '', 'modDate': \"D:20250312233403+07'00'\", 'creationDate': \"D:20250312233403+07'00'\", 'page': 0}, page_content=\"Personal information \\nBasic Information: \\n• Name : Sonakul kamnuanchai \\n• Age: 29 years old \\n• Education: Bachelor's Degree in Computer Engineering from Mae Fah Luang University. \\nCurrently pursuing a Master's degree in Data Science and AI at AIT. \\n• Current Role: Network Engineer at PEA, managing router configurations for regional \\nelectricity sector services. \\n• Work experience: 4 years in Network Engineering and 2 years in IOS Developer. \\n \\nResearch Interests: \\n• Machine Learning (ML) and Natural Language Processing (NLP) for optimizing network \\nperformance and improving communication systems. \\n• Exploring ways to integrate machine learning algorithms with computer networks to make\"),\n",
       "  Document(id='b7b80784-b10a-4c50-a2d8-425caff0c512', metadata={'producer': 'Microsoft® Word 2019', 'creator': 'Microsoft® Word 2019', 'creationdate': '2025-03-12T23:34:03+07:00', 'source': './personal_info_sonakul.pdf', 'file_path': './personal_info_sonakul.pdf', 'total_pages': 1, 'format': 'PDF 1.7', 'title': '', 'author': 'sonakul kamnuanchai', 'subject': '', 'keywords': '', 'moddate': '2025-03-12T23:34:03+07:00', 'trapped': '', 'modDate': \"D:20250312233403+07'00'\", 'creationDate': \"D:20250312233403+07'00'\", 'page': 0}, page_content='• Exploring ways to integrate machine learning algorithms with computer networks to make \\nsystems more intelligent and efficient. \\n• Network Optimization using AI algorithms to enhance system stability and performance. \\n \\nCore Beliefs about Technology:  \\nI believe that technology should improve lives and adapt to societal needs, not replace humans \\nand technology should work in harmony with social values, ensuring that it helps solve \\nproblems without negatively impacting society.')]}"
      ]
     },
     "execution_count": 56,
     "metadata": {},
     "output_type": "execute_result"
    }
   ],
   "source": [
    "prompt_question = \"What specific research interests or academic goals do you hope to achieve during your time as a master’s student?\"\n",
    "answer = chain({\"question\":prompt_question})\n",
    "answer"
   ]
  },
  {
   "cell_type": "code",
   "execution_count": 57,
   "metadata": {},
   "outputs": [],
   "source": [
    "cleaned_answer = clean_answer(answer['answer'])\n",
    "qa_pair = {\n",
    "    \"question\": prompt_question,\n",
    "    \"answer\": cleaned_answer \n",
    "}\n",
    "qa_pairs.append(qa_pair)"
   ]
  },
  {
   "cell_type": "code",
   "execution_count": 58,
   "metadata": {},
   "outputs": [
    {
     "name": "stdout",
     "output_type": "stream",
     "text": [
      "Question-answer pair saved\n"
     ]
    }
   ],
   "source": [
    "with open('questions_answers.json', 'w') as json_file:\n",
    "    json.dump(qa_pairs, json_file, indent=2)\n",
    "\n",
    "print(\"Question-answer pair saved\")"
   ]
  },
  {
   "cell_type": "code",
   "execution_count": null,
   "metadata": {},
   "outputs": [],
   "source": []
  },
  {
   "cell_type": "code",
   "execution_count": null,
   "metadata": {},
   "outputs": [],
   "source": []
  }
 ],
 "metadata": {
  "kernelspec": {
   "display_name": ".venv",
   "language": "python",
   "name": "python3"
  },
  "language_info": {
   "codemirror_mode": {
    "name": "ipython",
    "version": 3
   },
   "file_extension": ".py",
   "mimetype": "text/x-python",
   "name": "python",
   "nbconvert_exporter": "python",
   "pygments_lexer": "ipython3",
   "version": "3.9.6"
  }
 },
 "nbformat": 4,
 "nbformat_minor": 4
}
